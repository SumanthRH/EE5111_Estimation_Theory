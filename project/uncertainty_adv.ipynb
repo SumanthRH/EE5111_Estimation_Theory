{
 "cells": [
  {
   "cell_type": "code",
   "execution_count": 2,
   "metadata": {
    "colab": {
     "base_uri": "https://localhost:8080/",
     "height": 1000
    },
    "colab_type": "code",
    "id": "izEeedH-Q7jR",
    "outputId": "968cbef0-323a-45f8-bbff-ec3484c913f9"
   },
   "outputs": [],
   "source": [
    "## ensure that the right versions of tensorflow and keras are installed. Code may work for tf>=1.14 and keras>=2.3.1 as well\n",
    "\n",
    "# !pip install tensorflow==1.14\n",
    "# !pip install tensorflow-gpu==1.14\n",
    "# !pip install cleverhans\n",
    "# !pip install keras==2.3.1 "
   ]
  },
  {
   "cell_type": "code",
   "execution_count": 3,
   "metadata": {},
   "outputs": [],
   "source": [
    "## Author : Sumanth Hegde\n",
    "\n",
    "import os\n",
    "os.environ['CUDA_VISIBLE_DEVICES']='2'"
   ]
  },
  {
   "cell_type": "code",
   "execution_count": 4,
   "metadata": {
    "colab": {},
    "colab_type": "code",
    "id": "FVLgv9qzQ-dB"
   },
   "outputs": [
    {
     "name": "stderr",
     "output_type": "stream",
     "text": [
      "/home/sumanth/anaconda3/lib/python3.7/site-packages/tensorflow/python/framework/dtypes.py:516: FutureWarning: Passing (type, 1) or '1type' as a synonym of type is deprecated; in a future version of numpy, it will be understood as (type, (1,)) / '(1,)type'.\n",
      "  _np_qint8 = np.dtype([(\"qint8\", np.int8, 1)])\n",
      "/home/sumanth/anaconda3/lib/python3.7/site-packages/tensorflow/python/framework/dtypes.py:517: FutureWarning: Passing (type, 1) or '1type' as a synonym of type is deprecated; in a future version of numpy, it will be understood as (type, (1,)) / '(1,)type'.\n",
      "  _np_quint8 = np.dtype([(\"quint8\", np.uint8, 1)])\n",
      "/home/sumanth/anaconda3/lib/python3.7/site-packages/tensorflow/python/framework/dtypes.py:518: FutureWarning: Passing (type, 1) or '1type' as a synonym of type is deprecated; in a future version of numpy, it will be understood as (type, (1,)) / '(1,)type'.\n",
      "  _np_qint16 = np.dtype([(\"qint16\", np.int16, 1)])\n",
      "/home/sumanth/anaconda3/lib/python3.7/site-packages/tensorflow/python/framework/dtypes.py:519: FutureWarning: Passing (type, 1) or '1type' as a synonym of type is deprecated; in a future version of numpy, it will be understood as (type, (1,)) / '(1,)type'.\n",
      "  _np_quint16 = np.dtype([(\"quint16\", np.uint16, 1)])\n",
      "/home/sumanth/anaconda3/lib/python3.7/site-packages/tensorflow/python/framework/dtypes.py:520: FutureWarning: Passing (type, 1) or '1type' as a synonym of type is deprecated; in a future version of numpy, it will be understood as (type, (1,)) / '(1,)type'.\n",
      "  _np_qint32 = np.dtype([(\"qint32\", np.int32, 1)])\n",
      "/home/sumanth/anaconda3/lib/python3.7/site-packages/tensorflow/python/framework/dtypes.py:525: FutureWarning: Passing (type, 1) or '1type' as a synonym of type is deprecated; in a future version of numpy, it will be understood as (type, (1,)) / '(1,)type'.\n",
      "  np_resource = np.dtype([(\"resource\", np.ubyte, 1)])\n",
      "/home/sumanth/anaconda3/lib/python3.7/site-packages/tensorboard/compat/tensorflow_stub/dtypes.py:541: FutureWarning: Passing (type, 1) or '1type' as a synonym of type is deprecated; in a future version of numpy, it will be understood as (type, (1,)) / '(1,)type'.\n",
      "  _np_qint8 = np.dtype([(\"qint8\", np.int8, 1)])\n",
      "/home/sumanth/anaconda3/lib/python3.7/site-packages/tensorboard/compat/tensorflow_stub/dtypes.py:542: FutureWarning: Passing (type, 1) or '1type' as a synonym of type is deprecated; in a future version of numpy, it will be understood as (type, (1,)) / '(1,)type'.\n",
      "  _np_quint8 = np.dtype([(\"quint8\", np.uint8, 1)])\n",
      "/home/sumanth/anaconda3/lib/python3.7/site-packages/tensorboard/compat/tensorflow_stub/dtypes.py:543: FutureWarning: Passing (type, 1) or '1type' as a synonym of type is deprecated; in a future version of numpy, it will be understood as (type, (1,)) / '(1,)type'.\n",
      "  _np_qint16 = np.dtype([(\"qint16\", np.int16, 1)])\n",
      "/home/sumanth/anaconda3/lib/python3.7/site-packages/tensorboard/compat/tensorflow_stub/dtypes.py:544: FutureWarning: Passing (type, 1) or '1type' as a synonym of type is deprecated; in a future version of numpy, it will be understood as (type, (1,)) / '(1,)type'.\n",
      "  _np_quint16 = np.dtype([(\"quint16\", np.uint16, 1)])\n",
      "/home/sumanth/anaconda3/lib/python3.7/site-packages/tensorboard/compat/tensorflow_stub/dtypes.py:545: FutureWarning: Passing (type, 1) or '1type' as a synonym of type is deprecated; in a future version of numpy, it will be understood as (type, (1,)) / '(1,)type'.\n",
      "  _np_qint32 = np.dtype([(\"qint32\", np.int32, 1)])\n",
      "/home/sumanth/anaconda3/lib/python3.7/site-packages/tensorboard/compat/tensorflow_stub/dtypes.py:550: FutureWarning: Passing (type, 1) or '1type' as a synonym of type is deprecated; in a future version of numpy, it will be understood as (type, (1,)) / '(1,)type'.\n",
      "  np_resource = np.dtype([(\"resource\", np.ubyte, 1)])\n"
     ]
    }
   ],
   "source": [
    "#import necessary libraries\n",
    "import tensorflow as tf\n",
    "import numpy as np\n",
    "from matplotlib import pyplot as plt\n",
    "import scipy.ndimage as nd\n",
    "\n",
    "%matplotlib inline\n",
    "import pylab as pl\n",
    "\n",
    "from IPython import display\n",
    "\n",
    "from tensorflow.examples.tutorials.mnist import input_data\n",
    "import pickle\n",
    "\n"
   ]
  },
  {
   "cell_type": "code",
   "execution_count": 5,
   "metadata": {},
   "outputs": [],
   "source": [
    "## Fix seed to improve reproducibility\n",
    "tf.set_random_seed(1234)\n",
    "np.random.seed(1331) "
   ]
  },
  {
   "cell_type": "code",
   "execution_count": 6,
   "metadata": {
    "colab": {
     "base_uri": "https://localhost:8080/",
     "height": 436
    },
    "colab_type": "code",
    "id": "y-Yb1wALRAcP",
    "outputId": "32759324-4afc-4ae9-e58a-6f7f4be8d465"
   },
   "outputs": [
    {
     "name": "stdout",
     "output_type": "stream",
     "text": [
      "WARNING:tensorflow:From <ipython-input-6-be7d969f5c3f>:2: read_data_sets (from tensorflow.contrib.learn.python.learn.datasets.mnist) is deprecated and will be removed in a future version.\n",
      "Instructions for updating:\n",
      "Please use alternatives such as official/mnist/dataset.py from tensorflow/models.\n",
      "WARNING:tensorflow:From /home/sumanth/anaconda3/lib/python3.7/site-packages/tensorflow/contrib/learn/python/learn/datasets/mnist.py:260: maybe_download (from tensorflow.contrib.learn.python.learn.datasets.base) is deprecated and will be removed in a future version.\n",
      "Instructions for updating:\n",
      "Please write your own downloading logic.\n",
      "WARNING:tensorflow:From /home/sumanth/anaconda3/lib/python3.7/site-packages/tensorflow/contrib/learn/python/learn/datasets/mnist.py:262: extract_images (from tensorflow.contrib.learn.python.learn.datasets.mnist) is deprecated and will be removed in a future version.\n",
      "Instructions for updating:\n",
      "Please use tf.data to implement this functionality.\n",
      "Extracting MNIST_data/train-images-idx3-ubyte.gz\n",
      "WARNING:tensorflow:From /home/sumanth/anaconda3/lib/python3.7/site-packages/tensorflow/contrib/learn/python/learn/datasets/mnist.py:267: extract_labels (from tensorflow.contrib.learn.python.learn.datasets.mnist) is deprecated and will be removed in a future version.\n",
      "Instructions for updating:\n",
      "Please use tf.data to implement this functionality.\n",
      "Extracting MNIST_data/train-labels-idx1-ubyte.gz\n",
      "WARNING:tensorflow:From /home/sumanth/anaconda3/lib/python3.7/site-packages/tensorflow/contrib/learn/python/learn/datasets/mnist.py:110: dense_to_one_hot (from tensorflow.contrib.learn.python.learn.datasets.mnist) is deprecated and will be removed in a future version.\n",
      "Instructions for updating:\n",
      "Please use tf.one_hot on tensors.\n",
      "Extracting MNIST_data/t10k-images-idx3-ubyte.gz\n",
      "Extracting MNIST_data/t10k-labels-idx1-ubyte.gz\n",
      "WARNING:tensorflow:From /home/sumanth/anaconda3/lib/python3.7/site-packages/tensorflow/contrib/learn/python/learn/datasets/mnist.py:290: DataSet.__init__ (from tensorflow.contrib.learn.python.learn.datasets.mnist) is deprecated and will be removed in a future version.\n",
      "Instructions for updating:\n",
      "Please use alternatives such as official/mnist/dataset.py from tensorflow/models.\n"
     ]
    }
   ],
   "source": [
    "# Download MNIST dataset\n",
    "mnist = input_data.read_data_sets('MNIST_data', one_hot=True)\n",
    "\n",
    "num_classes= 10 # number of classes"
   ]
  },
  {
   "cell_type": "code",
   "execution_count": 7,
   "metadata": {
    "colab": {
     "base_uri": "https://localhost:8080/",
     "height": 579
    },
    "colab_type": "code",
    "id": "KIRI8z9uRHJN",
    "outputId": "1ccc6df7-ebe6-4827-a0ed-b2eb5954354b"
   },
   "outputs": [
    {
     "name": "stdout",
     "output_type": "stream",
     "text": [
      "[name: \"/device:CPU:0\"\n",
      "device_type: \"CPU\"\n",
      "memory_limit: 268435456\n",
      "locality {\n",
      "}\n",
      "incarnation: 16046982148898070153\n",
      ", name: \"/device:XLA_CPU:0\"\n",
      "device_type: \"XLA_CPU\"\n",
      "memory_limit: 17179869184\n",
      "locality {\n",
      "}\n",
      "incarnation: 5859014327084089664\n",
      "physical_device_desc: \"device: XLA_CPU device\"\n",
      ", name: \"/device:GPU:0\"\n",
      "device_type: \"GPU\"\n",
      "memory_limit: 10988499764\n",
      "locality {\n",
      "  bus_id: 1\n",
      "  links {\n",
      "  }\n",
      "}\n",
      "incarnation: 18320154112736665397\n",
      "physical_device_desc: \"device: 0, name: GeForce GTX 1080 Ti, pci bus id: 0000:05:00.0, compute capability: 6.1\"\n",
      ", name: \"/device:XLA_GPU:0\"\n",
      "device_type: \"XLA_GPU\"\n",
      "memory_limit: 17179869184\n",
      "locality {\n",
      "}\n",
      "incarnation: 7649517279522501242\n",
      "physical_device_desc: \"device: XLA_GPU device\"\n",
      "]\n"
     ]
    }
   ],
   "source": [
    "from tensorflow.python.client import device_lib\n",
    "print(device_lib.list_local_devices())"
   ]
  },
  {
   "cell_type": "code",
   "execution_count": 8,
   "metadata": {
    "colab": {
     "base_uri": "https://localhost:8080/",
     "height": 265
    },
    "colab_type": "code",
    "id": "-5eZt9zERJZA",
    "outputId": "85c5bb1c-d85f-430d-c159-3293937afb56"
   },
   "outputs": [
    {
     "data": {
      "image/png": "[encoded data removed]",
      "text/plain": [
       "<Figure size 432x288 with 1 Axes>"
      ]
     },
     "metadata": {
      "needs_background": "light"
     },
     "output_type": "display_data"
    }
   ],
   "source": [
    "digit_one = mnist.train.images[4].copy()\n",
    "plt.imshow(digit_one.reshape(28,28)) \n",
    "plt.show()"
   ]
  },
  {
   "cell_type": "code",
   "execution_count": 9,
   "metadata": {
    "colab": {},
    "colab_type": "code",
    "id": "Jfuo4K1LRLgr"
   },
   "outputs": [],
   "source": [
    "# define some utility functions\n",
    "def var(name, shape, init=None):\n",
    "    if init is None:\n",
    "        init = tf.truncated_normal_initializer(stddev=(2/shape[0])**0.5)\n",
    "    return tf.get_variable(name=name, shape=shape, dtype=tf.float32,\n",
    "                          initializer=init)\n",
    "\n",
    "def conv(Xin, f, strides=[1, 1, 1, 1], padding='SAME'):\n",
    "    return tf.nn.conv2d(Xin, f, strides, padding)\n",
    "\n",
    "def max_pool(Xin, ksize=[1, 2, 2, 1], strides=[1, 2, 2, 1], padding='SAME'):\n",
    "    return tf.nn.max_pool(Xin, ksize, strides, padding)\n",
    "\n",
    "def rotate_img(x, deg):\n",
    "    import scipy.ndimage as nd\n",
    "    return nd.rotate(x.reshape(28,28),deg,reshape=False).ravel()"
   ]
  },
  {
   "cell_type": "code",
   "execution_count": 10,
   "metadata": {
    "colab": {},
    "colab_type": "code",
    "id": "0714g-roRvsp"
   },
   "outputs": [],
   "source": [
    "# Create a LeNet network with softmax cross entropy loss function\n",
    "def LeNet_softmax(lmb=0.005): \n",
    "    g = tf.Graph()\n",
    "    with g.as_default():\n",
    "        X = tf.placeholder(shape=[None,28*28], dtype=tf.float32)\n",
    "        Y = tf.placeholder(shape=[None,10], dtype=tf.float32)\n",
    "        keep_prob = tf.placeholder(dtype=tf.float32)\n",
    "        \n",
    "        # first hidden layer - conv\n",
    "        W1 = var('W1', [5,5,1,20])\n",
    "        b1 = var('b1', [20])\n",
    "        # print('!!!!COmputing out1 now!!!!')\n",
    "        out1 = max_pool(tf.nn.relu(conv(tf.reshape(X, [-1, 28,28, 1]), \n",
    "                                        W1, strides=[1, 1, 1, 1]) + b1))\n",
    "        # second hidden layer - conv\n",
    "        W2 = var('W2', [5,5,20,50])\n",
    "        b2 = var('b2', [50])\n",
    "        out2 = max_pool(tf.nn.relu(conv(out1, W2, strides=[1, 1, 1, 1]) + b2))\n",
    "        # flatten the output\n",
    "        Xflat = tf.contrib.layers.flatten(out2)\n",
    "        # third hidden layer - fully connected\n",
    "        W3 = var('W3', [Xflat.get_shape()[1].value, 500])\n",
    "        b3 = var('b3', [500]) \n",
    "        out3 = tf.nn.relu(tf.matmul(Xflat, W3) + b3)\n",
    "#         out3 = tf.nn.dropout(out3, keep_prob=keep_prob)\n",
    "        #output layer\n",
    "        W4 = var('W4', [500,10])\n",
    "        b4 = var('b4',[10])\n",
    "        logits = tf.matmul(out3, W4) + b4\n",
    "        \n",
    "        prob = tf.nn.softmax(logits=logits) \n",
    "        \n",
    "        loss = tf.reduce_mean(tf.nn.softmax_cross_entropy_with_logits(logits=logits, labels=Y))\n",
    "        l2_loss = (tf.nn.l2_loss(W3)+tf.nn.l2_loss(W4)) * lmb\n",
    "        \n",
    "        step = tf.train.AdamOptimizer().minimize(loss + l2_loss)\n",
    "        \n",
    "        # Calculate accuracy\n",
    "        pred = tf.argmax(logits, 1)\n",
    "        truth = tf.argmax(Y, 1)\n",
    "        acc = tf.reduce_mean(tf.cast(tf.equal(pred, truth), tf.float32))\n",
    "        \n",
    "        return g, step, X, Y, keep_prob, prob, acc, loss, logits"
   ]
  },
  {
   "cell_type": "code",
   "execution_count": 11,
   "metadata": {
    "colab": {
     "base_uri": "https://localhost:8080/",
     "height": 327
    },
    "colab_type": "code",
    "id": "6U69F8AqRydK",
    "outputId": "1daf01c5-e1c4-4258-cf42-7c2cd2d393bf"
   },
   "outputs": [
    {
     "name": "stdout",
     "output_type": "stream",
     "text": [
      "WARNING:tensorflow:From /home/sumanth/anaconda3/lib/python3.7/site-packages/tensorflow/contrib/layers/python/layers/layers.py:1634: flatten (from tensorflow.python.layers.core) is deprecated and will be removed in a future version.\n",
      "Instructions for updating:\n",
      "Use keras.layers.flatten instead.\n",
      "WARNING:tensorflow:Entity <bound method Flatten.call of <tensorflow.python.layers.core.Flatten object at 0x7f1fcc464350>> could not be transformed and will be executed as-is. Please report this to the AutgoGraph team. When filing the bug, set the verbosity to 10 (on Linux, `export AUTOGRAPH_VERBOSITY=10`) and attach the full output. Cause: converting <bound method Flatten.call of <tensorflow.python.layers.core.Flatten object at 0x7f1fcc464350>>: AttributeError: module 'gast' has no attribute 'Num'\n",
      "WARNING: Entity <bound method Flatten.call of <tensorflow.python.layers.core.Flatten object at 0x7f1fcc464350>> could not be transformed and will be executed as-is. Please report this to the AutgoGraph team. When filing the bug, set the verbosity to 10 (on Linux, `export AUTOGRAPH_VERBOSITY=10`) and attach the full output. Cause: converting <bound method Flatten.call of <tensorflow.python.layers.core.Flatten object at 0x7f1fcc464350>>: AttributeError: module 'gast' has no attribute 'Num'\n",
      "WARNING:tensorflow:From <ipython-input-10-163ec1ffcd19>:33: softmax_cross_entropy_with_logits (from tensorflow.python.ops.nn_ops) is deprecated and will be removed in a future version.\n",
      "Instructions for updating:\n",
      "\n",
      "Future major versions of TensorFlow will allow gradients to flow\n",
      "into the labels input on backprop by default.\n",
      "\n",
      "See `tf.nn.softmax_cross_entropy_with_logits_v2`.\n",
      "\n"
     ]
    }
   ],
   "source": [
    "# get the LeNet network\n",
    "g1, step1, X1, Y1, keep_prob1, prob1, acc1, loss1, logits1 = LeNet_softmax()"
   ]
  },
  {
   "cell_type": "code",
   "execution_count": 12,
   "metadata": {
    "colab": {},
    "colab_type": "code",
    "id": "kCCIYKmUR0ym"
   },
   "outputs": [],
   "source": [
    "config = tf.ConfigProto(allow_soft_placement=True)\n",
    "config.gpu_options.allow_growth = True\n",
    "sess1 = tf.Session(graph=g1, config=config)\n",
    "with g1.as_default(): 11\n",
    "    sess1.run(tf.global_variables_initializer())"
   ]
  },
  {
   "cell_type": "code",
   "execution_count": 13,
   "metadata": {
    "colab": {
     "base_uri": "https://localhost:8080/",
     "height": 923
    },
    "colab_type": "code",
    "id": "9QdzbOWpR3Sy",
    "outputId": "6737a700-cc91-4d9c-df3b-2bfdf8b67efc"
   },
   "outputs": [
    {
     "name": "stdout",
     "output_type": "stream",
     "text": [
      "epoch 1 - 100% training accuracy: 0.9195 \t testing accuracy: 0.9269\n",
      "epoch 2 - 100% training accuracy: 0.9581 \t testing accuracy: 0.9571\n",
      "epoch 3 - 100% training accuracy: 0.9705 \t testing accuracy: 0.9695\n",
      "epoch 4 - 100% training accuracy: 0.9776 \t testing accuracy: 0.9753\n",
      "epoch 5 - 100% training accuracy: 0.9827 \t testing accuracy: 0.9774\n",
      "epoch 6 - 100% training accuracy: 0.9839 \t testing accuracy: 0.9797\n",
      "epoch 7 - 100% training accuracy: 0.9859 \t testing accuracy: 0.9783\n",
      "epoch 8 - 100% training accuracy: 0.9869 \t testing accuracy: 0.9809\n",
      "epoch 9 - 100% training accuracy: 0.9845 \t testing accuracy: 0.9778\n",
      "epoch 10 - 100% training accuracy: 0.9883 \t testing accuracy: 0.9801\n",
      "epoch 11 - 100% training accuracy: 0.9911 \t testing accuracy: 0.9829\n",
      "epoch 12 - 100% training accuracy: 0.9923 \t testing accuracy: 0.9837\n",
      "epoch 13 - 100% training accuracy: 0.9921 \t testing accuracy: 0.9817\n",
      "epoch 14 - 100% training accuracy: 0.9914 \t testing accuracy: 0.9811\n",
      "epoch 15 - 100% training accuracy: 0.9951 \t testing accuracy: 0.9855\n",
      "epoch 16 - 100% training accuracy: 0.9941 \t testing accuracy: 0.9842\n",
      "epoch 17 - 100% training accuracy: 0.9956 \t testing accuracy: 0.9857\n",
      "epoch 18 - 100% training accuracy: 0.9946 \t testing accuracy: 0.9852\n",
      "epoch 19 - 100% training accuracy: 0.9957 \t testing accuracy: 0.9843\n",
      "epoch 20 - 100% training accuracy: 0.9933 \t testing accuracy: 0.9833\n",
      "epoch 21 - 100% training accuracy: 0.9956 \t testing accuracy: 0.9849\n",
      "epoch 22 - 100% training accuracy: 0.9966 \t testing accuracy: 0.9857\n",
      "epoch 23 - 100% training accuracy: 0.9955 \t testing accuracy: 0.9844\n",
      "epoch 24 - 100% training accuracy: 0.9962 \t testing accuracy: 0.9859\n",
      "epoch 25 - 100% training accuracy: 0.9972 \t testing accuracy: 0.9856\n",
      "epoch 26 - 100% training accuracy: 0.9969 \t testing accuracy: 0.9851\n",
      "epoch 27 - 100% training accuracy: 0.9962 \t testing accuracy: 0.9859\n",
      "epoch 28 - 100% training accuracy: 0.9957 \t testing accuracy: 0.9848\n",
      "epoch 29 - 100% training accuracy: 0.9969 \t testing accuracy: 0.9859\n",
      "epoch 30 - 100% training accuracy: 0.9959 \t testing accuracy: 0.9853\n",
      "epoch 31 - 100% training accuracy: 0.9974 \t testing accuracy: 0.9873\n",
      "epoch 32 - 100% training accuracy: 0.9968 \t testing accuracy: 0.9857\n",
      "epoch 33 - 100% training accuracy: 0.9975 \t testing accuracy: 0.9871\n",
      "epoch 34 - 100% training accuracy: 0.9979 \t testing accuracy: 0.9863\n",
      "epoch 35 - 100% training accuracy: 0.9974 \t testing accuracy: 0.9864\n",
      "epoch 36 - 100% training accuracy: 0.9957 \t testing accuracy: 0.9850\n",
      "epoch 37 - 100% training accuracy: 0.9976 \t testing accuracy: 0.9874\n",
      "epoch 38 - 100% training accuracy: 0.9954 \t testing accuracy: 0.9849\n",
      "epoch 39 - 100% training accuracy: 0.9983 \t testing accuracy: 0.9869\n",
      "epoch 40 - 100% training accuracy: 0.9971 \t testing accuracy: 0.9871\n",
      "epoch 41 - 100% training accuracy: 0.9957 \t testing accuracy: 0.9854\n",
      "epoch 42 - 100% training accuracy: 0.9982 \t testing accuracy: 0.9882\n",
      "epoch 43 - 100% training accuracy: 0.9968 \t testing accuracy: 0.9858\n",
      "epoch 44 - 100% training accuracy: 0.9983 \t testing accuracy: 0.9869\n",
      "epoch 45 - 100% training accuracy: 0.9926 \t testing accuracy: 0.9832\n",
      "epoch 46 - 100% training accuracy: 0.9951 \t testing accuracy: 0.9852\n",
      "epoch 47 - 100% training accuracy: 0.9973 \t testing accuracy: 0.9868\n",
      "epoch 48 - 100% training accuracy: 0.9978 \t testing accuracy: 0.9878\n",
      "epoch 49 - 100% training accuracy: 0.9973 \t testing accuracy: 0.9860\n",
      "epoch 50 - 100% training accuracy: 0.9924 \t testing accuracy: 0.9814\n"
     ]
    }
   ],
   "source": [
    "bsize = 1000 #batch size\n",
    "n_batches = mnist.train.num_examples // bsize\n",
    "for epoch in range(50):   \n",
    "    for i in range(n_batches):\n",
    "        data, label = mnist.train.next_batch(bsize)\n",
    "        feed_dict={X1:data, Y1:label, keep_prob1:.5}\n",
    "        sess1.run(step1,feed_dict)\n",
    "        print('epoch %d - %d%% '% (epoch+1, (100*(i+1))//n_batches), end='\\r' if i<n_batches-1 else '')\n",
    "        \n",
    "    train_acc = sess1.run(acc1, feed_dict={X1:mnist.train.images,Y1:mnist.train.labels,keep_prob1:1.})\n",
    "    test_acc = sess1.run(acc1, feed_dict={X1:mnist.test.images,Y1:mnist.test.labels,keep_prob1:1.})\n",
    "    \n",
    "    print('training accuracy: %2.4f \\t testing accuracy: %2.4f' % (train_acc, test_acc))"
   ]
  },
  {
   "cell_type": "markdown",
   "metadata": {},
   "source": [
    "## Adversarial attacks\n",
    "\n",
    "The *fgm* function below is a modified version of the one available in the cleverhans module (v3.0.1 or higher) . Currently, cleverhans does not support evaluation of ensemble models since the final output is required to be a logits. Hence, all models have been evaluated with the probabilities. "
   ]
  },
  {
   "cell_type": "code",
   "execution_count": 14,
   "metadata": {
    "colab": {
     "base_uri": "https://localhost:8080/",
     "height": 687
    },
    "colab_type": "code",
    "id": "bDu72j7LSCZA",
    "outputId": "2c7d3191-a6a5-4f9f-b13f-b7c7b01e8209"
   },
   "outputs": [
    {
     "name": "stdout",
     "output_type": "stream",
     "text": [
      "WARNING:tensorflow:From /home/sumanth/anaconda3/lib/python3.7/site-packages/cleverhans/utils_tf.py:341: The name tf.GraphKeys is deprecated. Please use tf.compat.v1.GraphKeys instead.\n",
      "\n",
      "WARNING:tensorflow:From /home/sumanth/EE5111_Estimation_Theory/project/utilities.py:75: to_float (from tensorflow.python.ops.math_ops) is deprecated and will be removed in a future version.\n",
      "Instructions for updating:\n",
      "Use `tf.cast` instead.\n"
     ]
    },
    {
     "name": "stderr",
     "output_type": "stream",
     "text": [
      "Using TensorFlow backend.\n"
     ]
    },
    {
     "name": "stdout",
     "output_type": "stream",
     "text": [
      "Accuracy : 0.9814 Mean entropy : 0.0401 for eps : 0.00\n",
      "Accuracy : 0.3468 Mean entropy : 0.3560 for eps : 0.10\n",
      "Accuracy : 0.1142 Mean entropy : 0.3031 for eps : 0.20\n",
      "Accuracy : 0.0794 Mean entropy : 0.3174 for eps : 0.30\n",
      "Accuracy : 0.0682 Mean entropy : 0.3337 for eps : 0.40\n",
      "Accuracy : 0.0622 Mean entropy : 0.3437 for eps : 0.50\n",
      "Accuracy : 0.0583 Mean entropy : 0.3507 for eps : 0.60\n",
      "Accuracy : 0.0568 Mean entropy : 0.3515 for eps : 0.70\n",
      "Accuracy : 0.0552 Mean entropy : 0.3483 for eps : 0.80\n",
      "Accuracy : 0.0542 Mean entropy : 0.3432 for eps : 0.90\n",
      "Accuracy : 0.0535 Mean entropy : 0.3383 for eps : 1.00\n"
     ]
    }
   ],
   "source": [
    "import keras.backend as K\n",
    "from utilities import fgm\n",
    "\n",
    "def entropy(X: tf.Tensor) -> tf.Tensor:\n",
    "    return K.sum(- X * K.log(K.clip(X, 1e-6, 1)), axis=-1)\n",
    "\n",
    "\n",
    "loss_ce = tf.keras.losses.categorical_crossentropy\n",
    "\n",
    "with g1.as_default():      \n",
    "    ent1 = entropy(prob1)\n",
    "test_accs = []\n",
    "entropies = []\n",
    "for eps in np.linspace(0,1,11):\n",
    "    with g1.as_default():\n",
    "        x_adv = fgm(X1, prob1, eps=eps, clip_min=None, clip_max=None, loss_fn = loss_ce)\n",
    "\n",
    "    x_ = sess1.run(x_adv,feed_dict={X1:mnist.test.images, keep_prob1: 1.})\n",
    "    \n",
    "    x_ = x_/np.max(x_,1,keepdims=True) # normalize as a pre processing step\n",
    "    \n",
    "    prob_adv, test_acc, ent_adv = sess1.run([prob1, acc1, ent1], feed_dict={X1:x_,Y1:mnist.test.labels,keep_prob1:1.})\n",
    "    test_accs.append(test_acc)\n",
    "    mean_ent = np.mean(ent_adv)\n",
    "    entropies.append(mean_ent)\n",
    "    print('Accuracy : %2.4f Mean entropy : %2.4f for eps : %.2f' % (test_acc, mean_ent, eps))"
   ]
  },
  {
   "cell_type": "code",
   "execution_count": 15,
   "metadata": {
    "colab": {
     "base_uri": "https://localhost:8080/",
     "height": 545
    },
    "colab_type": "code",
    "id": "uT6FCM52Si11",
    "outputId": "c7e5c29c-8eb0-4ce3-f6ad-1436736f1df5"
   },
   "outputs": [
    {
     "data": {
      "image/png": "[encoded data removed]",
      "text/plain": [
       "<Figure size 432x288 with 1 Axes>"
      ]
     },
     "metadata": {
      "needs_background": "light"
     },
     "output_type": "display_data"
    },
    {
     "data": {
      "image/png": "[encoded data removed]",
      "text/plain": [
       "<Figure size 432x288 with 1 Axes>"
      ]
     },
     "metadata": {
      "needs_background": "light"
     },
     "output_type": "display_data"
    }
   ],
   "source": [
    "import matplotlib.pyplot as plt\n",
    "\n",
    "plt.plot(np.linspace(0,1,11),test_accs,'-*')\n",
    "plt.xlabel('Epsilon')\n",
    "plt.xlim(left=0)\n",
    "plt.ylabel('Accuracy')\n",
    "plt.show()\n",
    "plt.plot(np.linspace(0,1,11),np.array(entropies)/np.log(10),'g')\n",
    "plt.xlabel('Epsilon')\n",
    "plt.ylabel('% Max entropy')\n",
    "plt.xlim(left=0)\n",
    "plt.ylim(0,1)\n",
    "plt.show()"
   ]
  },
  {
   "cell_type": "code",
   "execution_count": 16,
   "metadata": {
    "colab": {},
    "colab_type": "code",
    "id": "vzl3I4D5RDPa"
   },
   "outputs": [],
   "source": [
    "## save results in the results directory\n",
    "if not os.path.exists('./results/'):\n",
    "    os.mkdir('./results/')\n",
    "    \n",
    "with open('./results/accuracies_l2.pkl','wb') as f:\n",
    "    pickle.dump(test_accs,f)\n",
    "with open('./results/entropies_l2.pkl','wb') as f:\n",
    "    pickle.dump(entropies,f)"
   ]
  },
  {
   "cell_type": "markdown",
   "metadata": {
    "colab_type": "text",
    "id": "mUXlc0jMRqZ4"
   },
   "source": [
    "## EDL \n"
   ]
  },
  {
   "cell_type": "code",
   "execution_count": 17,
   "metadata": {
    "colab": {},
    "colab_type": "code",
    "id": "zzcBIA79RPu_"
   },
   "outputs": [],
   "source": [
    "# This function to generate evidence is used for the first example\n",
    "def relu_evidence(logits):\n",
    "    return tf.nn.relu(logits)\n",
    "\n",
    "# This one usually works better and used for the second and third examples\n",
    "# For general settings and different datasets, you may try this one first\n",
    "def exp_evidence(logits): \n",
    "    return tf.exp(tf.clip_by_value(logits,-10,10))\n",
    "\n",
    "# This one is another alternative and \n",
    "# usually behaves better than the relu_evidence \n",
    "def softplus_evidence(logits):\n",
    "    return tf.nn.softplus(logits)"
   ]
  },
  {
   "cell_type": "markdown",
   "metadata": {
    "colab_type": "text",
    "id": "k7uTqg5cRSEf"
   },
   "source": [
    "## Define the loss function\n"
   ]
  },
  {
   "cell_type": "code",
   "execution_count": 18,
   "metadata": {
    "colab": {},
    "colab_type": "code",
    "id": "pR3pyn4hF-RH"
   },
   "outputs": [],
   "source": [
    "num_classes = 10"
   ]
  },
  {
   "cell_type": "code",
   "execution_count": 19,
   "metadata": {
    "colab": {},
    "colab_type": "code",
    "id": "3hdd8PTJRRel"
   },
   "outputs": [],
   "source": [
    "def KL(alpha):\n",
    "    beta=tf.constant(np.ones((1,num_classes)),dtype=tf.float32)\n",
    "    S_alpha = tf.reduce_sum(alpha,axis=1,keep_dims=True)\n",
    "    S_beta = tf.reduce_sum(beta,axis=1,keep_dims=True)\n",
    "    lnB = tf.lgamma(S_alpha) - tf.reduce_sum(tf.lgamma(alpha),axis=1,keep_dims=True)\n",
    "    lnB_uni = tf.reduce_sum(tf.lgamma(beta),axis=1,keep_dims=True) - tf.lgamma(S_beta)\n",
    "    \n",
    "    dg0 = tf.digamma(S_alpha)\n",
    "    dg1 = tf.digamma(alpha)\n",
    "    \n",
    "    kl = tf.reduce_sum((alpha - beta)*(dg1-dg0),axis=1,keep_dims=True) + lnB + lnB_uni\n",
    "    return kl\n",
    "\n",
    "def mse_loss(p, alpha, global_step, annealing_step): \n",
    "    S = tf.reduce_sum(alpha, axis=1, keep_dims=True) \n",
    "    E = alpha - 1\n",
    "    m = alpha / S\n",
    "    \n",
    "    A = tf.reduce_sum((p-m)**2, axis=1, keep_dims=True) \n",
    "    B = tf.reduce_sum(alpha*(S-alpha)/(S*S*(S+1)), axis=1, keep_dims=True) \n",
    "    \n",
    "    annealing_coef = tf.minimum(1.0,tf.cast(global_step/annealing_step,tf.float32))\n",
    "    \n",
    "    alp = E*(1-p) + 1 \n",
    "    C =  annealing_coef * KL(alp)\n",
    "    return (A + B) + C"
   ]
  },
  {
   "cell_type": "code",
   "execution_count": 20,
   "metadata": {
    "colab": {},
    "colab_type": "code",
    "id": "6NLndYn-RYEc"
   },
   "outputs": [],
   "source": [
    "# train LeNet network with expected mean square error loss\n",
    "def LeNet_EDL(logits2evidence=relu_evidence,loss_function=mse_loss, lmb=0.005):\n",
    "    g = tf.Graph()\n",
    "    with g.as_default():\n",
    "        X = tf.placeholder(shape=[None,28*28], dtype=tf.float32)\n",
    "        Y = tf.placeholder(shape=[None,10], dtype=tf.float32)\n",
    "        keep_prob = tf.placeholder(dtype=tf.float32)\n",
    "        global_step = tf.Variable(initial_value=0, name='global_step', trainable=False)\n",
    "        annealing_step = tf.placeholder(dtype=tf.int32) \n",
    "    \n",
    "        # first hidden layer - conv\n",
    "        W1 = var('W1', [5,5,1,20])\n",
    "        b1 = var('b1', [20])\n",
    "        out1 = max_pool(tf.nn.relu(conv(tf.reshape(X, [-1, 28,28, 1]), \n",
    "                                        W1, strides=[1, 1, 1, 1]) + b1))\n",
    "        # second hidden layer - conv\n",
    "        W2 = var('W2', [5,5,20,50])\n",
    "        b2 = var('b2', [50])\n",
    "        out2 = max_pool(tf.nn.relu(conv(out1, W2, strides=[1, 1, 1, 1]) + b2))\n",
    "        # flatten the output\n",
    "        Xflat = tf.contrib.layers.flatten(out2)\n",
    "        # third hidden layer - fully connected\n",
    "        W3 = var('W3', [Xflat.get_shape()[1].value, 500])\n",
    "        b3 = var('b3', [500]) \n",
    "        out3 = tf.nn.relu(tf.matmul(Xflat, W3) + b3)\n",
    "        out3 = tf.nn.dropout(out3, keep_prob=keep_prob)\n",
    "        #output layer\n",
    "        W4 = var('W4', [500,10])\n",
    "        b4 = var('b4',[10])\n",
    "        logits = tf.matmul(out3, W4) + b4\n",
    "        \n",
    "        evidence = logits2evidence(logits)\n",
    "        alpha = evidence + 1\n",
    "        \n",
    "        u = num_classes/ tf.reduce_sum(alpha, axis=1, keep_dims=True) #uncertainty\n",
    "        \n",
    "        prob = alpha/tf.reduce_sum(alpha, 1, keepdims=True) \n",
    "        \n",
    "        loss = tf.reduce_mean(loss_function(Y, alpha, global_step, annealing_step))\n",
    "        l2_loss = (tf.nn.l2_loss(W3)+tf.nn.l2_loss(W4)) * lmb\n",
    "        \n",
    "        step = tf.train.AdamOptimizer().minimize(loss + l2_loss, global_step=global_step)\n",
    "        \n",
    "        # Calculate accuracy\n",
    "        pred = tf.argmax(logits, 1)\n",
    "        truth = tf.argmax(Y, 1)\n",
    "        match = tf.reshape(tf.cast(tf.equal(pred, truth), tf.float32),(-1,1))\n",
    "        acc = tf.reduce_mean(match)\n",
    "        \n",
    "        total_evidence = tf.reduce_sum(evidence,1, keepdims=True) \n",
    "        mean_ev = tf.reduce_mean(total_evidence)\n",
    "        mean_ev_succ = tf.reduce_sum(tf.reduce_sum(evidence,1, keepdims=True)*match) / tf.reduce_sum(match+1e-20)\n",
    "        mean_ev_fail = tf.reduce_sum(tf.reduce_sum(evidence,1, keepdims=True)*(1-match)) / (tf.reduce_sum(tf.abs(1-match))+1e-20) \n",
    "        \n",
    "        return g, step, X, Y, annealing_step, keep_prob, prob, acc, loss, u, evidence, mean_ev, mean_ev_succ, mean_ev_fail, alpha, logits"
   ]
  },
  {
   "cell_type": "code",
   "execution_count": 21,
   "metadata": {
    "colab": {
     "base_uri": "https://localhost:8080/",
     "height": 182
    },
    "colab_type": "code",
    "id": "kgGqd-wPFrBt",
    "outputId": "a72f47ac-d6c5-42c1-bfc3-f85df6d5b7ec"
   },
   "outputs": [
    {
     "name": "stdout",
     "output_type": "stream",
     "text": [
      "WARNING:tensorflow:Entity <bound method Flatten.call of <tensorflow.python.layers.core.Flatten object at 0x7f1fb9965a10>> could not be transformed and will be executed as-is. Please report this to the AutgoGraph team. When filing the bug, set the verbosity to 10 (on Linux, `export AUTOGRAPH_VERBOSITY=10`) and attach the full output. Cause: converting <bound method Flatten.call of <tensorflow.python.layers.core.Flatten object at 0x7f1fb9965a10>>: AttributeError: module 'gast' has no attribute 'Num'\n",
      "WARNING: Entity <bound method Flatten.call of <tensorflow.python.layers.core.Flatten object at 0x7f1fb9965a10>> could not be transformed and will be executed as-is. Please report this to the AutgoGraph team. When filing the bug, set the verbosity to 10 (on Linux, `export AUTOGRAPH_VERBOSITY=10`) and attach the full output. Cause: converting <bound method Flatten.call of <tensorflow.python.layers.core.Flatten object at 0x7f1fb9965a10>>: AttributeError: module 'gast' has no attribute 'Num'\n",
      "WARNING:tensorflow:From <ipython-input-20-c9e22137dd35>:26: calling dropout (from tensorflow.python.ops.nn_ops) with keep_prob is deprecated and will be removed in a future version.\n",
      "Instructions for updating:\n",
      "Please use `rate` instead of `keep_prob`. Rate should be set to `rate = 1 - keep_prob`.\n",
      "WARNING:tensorflow:From <ipython-input-20-c9e22137dd35>:35: calling reduce_sum_v1 (from tensorflow.python.ops.math_ops) with keep_dims is deprecated and will be removed in a future version.\n",
      "Instructions for updating:\n",
      "keep_dims is deprecated, use keepdims instead\n",
      "WARNING:tensorflow:From /home/sumanth/anaconda3/lib/python3.7/site-packages/tensorflow/python/ops/math_grad.py:1205: add_dispatch_support.<locals>.wrapper (from tensorflow.python.ops.array_ops) is deprecated and will be removed in a future version.\n",
      "Instructions for updating:\n",
      "Use tf.where in 2.0, which has the same broadcast rule as np.where\n"
     ]
    }
   ],
   "source": [
    "g2, step2, X2, Y2, annealing_step, keep_prob2, prob2, acc2, loss2, u, evidence, \\\n",
    "    mean_ev, mean_ev_succ, mean_ev_fail, alpha, logits2 = LeNet_EDL()"
   ]
  },
  {
   "cell_type": "code",
   "execution_count": 22,
   "metadata": {
    "colab": {},
    "colab_type": "code",
    "id": "nXK-Snx4F4Pe"
   },
   "outputs": [],
   "source": [
    "config  = tf.ConfigProto(allow_soft_placement=True)\n",
    "config.gpu_options.allow_growth=True\n",
    "sess2 = tf.Session(graph=g2, config=config)\n",
    "with g2.as_default():\n",
    "    sess2.run(tf.global_variables_initializer())\n"
   ]
  },
  {
   "cell_type": "code",
   "execution_count": 23,
   "metadata": {
    "colab": {
     "base_uri": "https://localhost:8080/",
     "height": 923
    },
    "colab_type": "code",
    "id": "9v8-8ecLF8DC",
    "outputId": "95e7189d-43c4-4b59-ccfd-d23c0a46639d"
   },
   "outputs": [
    {
     "name": "stdout",
     "output_type": "stream",
     "text": [
      "epoch 1 - 100%) training: 0.9520 (33.5066 - 8.9710) \t testing: 0.9536 (34.0260 - 9.8128)\n",
      "epoch 2 - 100%) training: 0.9695 (35.8271 - 7.6919) \t testing: 0.9718 (36.2964 - 8.9845)\n",
      "epoch 3 - 100%) training: 0.9763 (36.0988 - 5.6441) \t testing: 0.9762 (36.6473 - 6.8116)\n",
      "epoch 4 - 100%) training: 0.9779 (36.4632 - 3.6458) \t testing: 0.9779 (37.2192 - 4.0620)\n",
      "epoch 5 - 100%) training: 0.9800 (35.2779 - 2.7756) \t testing: 0.9796 (35.9325 - 2.3621)\n",
      "epoch 6 - 100%) training: 0.9811 (37.1369 - 2.4534) \t testing: 0.9803 (37.8088 - 2.9312)\n",
      "epoch 7 - 100%) training: 0.9803 (38.4678 - 2.6537) \t testing: 0.9797 (39.1223 - 3.3290)\n",
      "epoch 8 - 100%) training: 0.9831 (38.7589 - 2.4580) \t testing: 0.9830 (39.4496 - 2.6902)\n",
      "epoch 9 - 100%) training: 0.9832 (39.8620 - 1.9615) \t testing: 0.9823 (40.7436 - 2.3098)\n",
      "epoch 10 - 100%) training: 0.9817 (40.5847 - 2.2294) \t testing: 0.9818 (41.1714 - 3.3998)\n",
      "epoch 11 - 100%) training: 0.9845 (41.5610 - 1.7214) \t testing: 0.9833 (42.2342 - 2.1957)\n",
      "epoch 12 - 100%) training: 0.9837 (42.1302 - 1.4836) \t testing: 0.9832 (42.9292 - 2.1215)\n",
      "epoch 13 - 100%) training: 0.9868 (41.8727 - 1.7999) \t testing: 0.9859 (42.8313 - 2.5529)\n",
      "epoch 14 - 100%) training: 0.9857 (44.4158 - 2.5398) \t testing: 0.9846 (45.1858 - 3.4173)\n",
      "epoch 15 - 100%) training: 0.9870 (43.4468 - 1.3804) \t testing: 0.9864 (44.1728 - 1.9832)\n",
      "epoch 16 - 100%) training: 0.9861 (42.6475 - 1.6049) \t testing: 0.9866 (43.4940 - 2.2402)\n",
      "epoch 17 - 100%) training: 0.9865 (46.2632 - 2.3057) \t testing: 0.9847 (46.9628 - 3.5128)\n",
      "epoch 18 - 100%) training: 0.9866 (44.7052 - 1.8512) \t testing: 0.9851 (45.6676 - 2.6872)\n",
      "epoch 19 - 100%) training: 0.9878 (45.7402 - 2.0544) \t testing: 0.9859 (46.7617 - 3.2191)\n",
      "epoch 20 - 100%) training: 0.9871 (43.8153 - 1.2865) \t testing: 0.9862 (44.7984 - 2.1930)\n",
      "epoch 21 - 100%) training: 0.9881 (46.0974 - 2.1127) \t testing: 0.9864 (47.1336 - 3.0703)\n",
      "epoch 22 - 100%) training: 0.9889 (46.2697 - 1.8856) \t testing: 0.9867 (47.1536 - 2.1551)\n",
      "epoch 23 - 100%) training: 0.9873 (46.6832 - 1.7682) \t testing: 0.9854 (47.5667 - 2.8566)\n",
      "epoch 24 - 100%) training: 0.9890 (48.3933 - 2.4060) \t testing: 0.9880 (49.3187 - 3.8257)\n",
      "epoch 25 - 100%) training: 0.9874 (48.1212 - 1.4530) \t testing: 0.9849 (49.0074 - 2.4210)\n",
      "epoch 26 - 100%) training: 0.9881 (48.5969 - 1.6419) \t testing: 0.9865 (49.5152 - 3.3881)\n",
      "epoch 27 - 100%) training: 0.9891 (47.4034 - 1.4257) \t testing: 0.9851 (48.6384 - 2.7545)\n",
      "epoch 28 - 100%) training: 0.9885 (50.9423 - 2.1314) \t testing: 0.9862 (52.0093 - 3.0685)\n",
      "epoch 29 - 100%) training: 0.9889 (51.2074 - 1.9313) \t testing: 0.9874 (52.1598 - 3.0434)\n",
      "epoch 30 - 100%) training: 0.9887 (50.9259 - 1.9783) \t testing: 0.9864 (52.0240 - 2.8610)\n",
      "epoch 31 - 100%) training: 0.9892 (50.9128 - 2.6094) \t testing: 0.9876 (51.9283 - 4.0475)\n",
      "epoch 32 - 100%) training: 0.9895 (51.8431 - 1.8975) \t testing: 0.9866 (52.9130 - 3.3772)\n",
      "epoch 33 - 100%) training: 0.9880 (51.7025 - 2.4187) \t testing: 0.9863 (52.6581 - 4.2754)\n",
      "epoch 34 - 100%) training: 0.9890 (52.1694 - 2.1568) \t testing: 0.9884 (53.0355 - 3.4607)\n",
      "epoch 35 - 100%) training: 0.9903 (52.9019 - 2.5450) \t testing: 0.9901 (53.8625 - 3.6289)\n",
      "epoch 36 - 100%) training: 0.9895 (49.9770 - 1.5614) \t testing: 0.9880 (50.9929 - 2.1866)\n",
      "epoch 37 - 100%) training: 0.9898 (51.6106 - 2.0712) \t testing: 0.9878 (52.5627 - 2.9688)\n",
      "epoch 38 - 100%) training: 0.9892 (54.7615 - 2.5098) \t testing: 0.9874 (55.7998 - 4.4363)\n",
      "epoch 39 - 100%) training: 0.9903 (51.1366 - 1.5561) \t testing: 0.9891 (52.2016 - 2.6986)\n",
      "epoch 40 - 100%) training: 0.9893 (52.7871 - 1.9428) \t testing: 0.9888 (53.7073 - 3.1209)\n",
      "epoch 41 - 100%) training: 0.9902 (52.9004 - 1.5955) \t testing: 0.9882 (53.7335 - 3.2768)\n",
      "epoch 42 - 100%) training: 0.9910 (55.0217 - 2.2391) \t testing: 0.9888 (56.0426 - 3.6850)\n",
      "epoch 43 - 100%) training: 0.9899 (55.0121 - 2.2017) \t testing: 0.9866 (56.1916 - 3.2079)\n",
      "epoch 44 - 100%) training: 0.9892 (52.2580 - 1.4075) \t testing: 0.9874 (53.1183 - 2.5583)\n",
      "epoch 45 - 100%) training: 0.9904 (58.1760 - 2.8193) \t testing: 0.9889 (59.2913 - 4.6851)\n",
      "epoch 46 - 100%) training: 0.9898 (55.3250 - 2.2397) \t testing: 0.9886 (56.3484 - 3.1399)\n",
      "epoch 47 - 100%) training: 0.9899 (55.8615 - 2.0146) \t testing: 0.9896 (56.8445 - 4.2560)\n",
      "epoch 48 - 100%) training: 0.9913 (54.0124 - 1.4009) \t testing: 0.9890 (55.0070 - 2.6626)\n",
      "epoch 49 - 100%) training: 0.9904 (53.8306 - 1.6622) \t testing: 0.9894 (55.0287 - 2.9366)\n",
      "epoch 50 - 100%) training: 0.9904 (53.4758 - 1.8191) \t testing: 0.9883 (54.4818 - 3.6205)\n"
     ]
    }
   ],
   "source": [
    "bsize = 1000 #batch size\n",
    "n_batches = mnist.train.num_examples // bsize\n",
    "L_train_acc1=[]\n",
    "L_train_ev_s=[]\n",
    "L_train_ev_f=[]\n",
    "L_test_acc1=[]\n",
    "L_test_ev_s=[]\n",
    "L_test_ev_f=[]\n",
    "for epoch in range(50):   \n",
    "    for i in range(n_batches):\n",
    "        data, label = mnist.train.next_batch(bsize)\n",
    "        feed_dict={X2:data, Y2:label, keep_prob2:.5, annealing_step:10*n_batches}\n",
    "        sess2.run(step2,feed_dict)\n",
    "        print('epoch %d - %d%%) '% (epoch+1, (100*(i+1))//n_batches), end='\\r' if i<n_batches-1 else '')\n",
    "        \n",
    "    train_acc, train_succ, train_fail = sess2.run([acc2,mean_ev_succ,mean_ev_fail], feed_dict={X2:mnist.train.images,Y2:mnist.train.labels,keep_prob2:1.})\n",
    "    test_acc, test_succ, test_fail = sess2.run([acc2,mean_ev_succ,mean_ev_fail], feed_dict={X2:mnist.test.images,Y2:mnist.test.labels,keep_prob2:1.})\n",
    "    \n",
    "    L_train_acc1.append(train_acc)\n",
    "    L_train_ev_s.append(train_succ)\n",
    "    L_train_ev_f.append(train_fail)\n",
    "    \n",
    "    L_test_acc1.append(test_acc)\n",
    "    L_test_ev_s.append(test_succ)\n",
    "    L_test_ev_f.append(test_fail)\n",
    "    \n",
    "    print('training: %2.4f (%2.4f - %2.4f) \\t testing: %2.4f (%2.4f - %2.4f)' % \n",
    "          (train_acc, train_succ, train_fail, test_acc, test_succ, test_fail))"
   ]
  },
  {
   "cell_type": "code",
   "execution_count": 24,
   "metadata": {
    "colab": {
     "base_uri": "https://localhost:8080/",
     "height": 1000
    },
    "colab_type": "code",
    "id": "8tcplgKXGYS1",
    "outputId": "0041d7f4-6e1b-4c48-9ed2-4c74699139ba"
   },
   "outputs": [
    {
     "name": "stdout",
     "output_type": "stream",
     "text": [
      "Accuracy : 0.9883 Mean entropy : 0.8129 for eps : 0.00 Mean uncertainty : 0.20\n",
      "Accuracy : 0.7486 Mean entropy : 1.7805 for eps : 0.10 Mean uncertainty : 0.63\n",
      "Accuracy : 0.1743 Mean entropy : 2.0901 for eps : 0.20 Mean uncertainty : 0.83\n",
      "Accuracy : 0.0289 Mean entropy : 2.0580 for eps : 0.30 Mean uncertainty : 0.80\n",
      "Accuracy : 0.0182 Mean entropy : 2.0620 for eps : 0.40 Mean uncertainty : 0.80\n",
      "Accuracy : 0.0179 Mean entropy : 2.0667 for eps : 0.50 Mean uncertainty : 0.80\n",
      "Accuracy : 0.0197 Mean entropy : 2.0651 for eps : 0.60 Mean uncertainty : 0.80\n",
      "Accuracy : 0.0218 Mean entropy : 2.0591 for eps : 0.70 Mean uncertainty : 0.79\n",
      "Accuracy : 0.0233 Mean entropy : 2.0507 for eps : 0.80 Mean uncertainty : 0.79\n",
      "Accuracy : 0.0245 Mean entropy : 2.0409 for eps : 0.90 Mean uncertainty : 0.78\n",
      "Accuracy : 0.0261 Mean entropy : 2.0305 for eps : 1.00 Mean uncertainty : 0.77\n"
     ]
    }
   ],
   "source": [
    "\n",
    "with g2.as_default():\n",
    "    # global step to be used for the loss function while generating adv examples\n",
    "    # set to be zero so that regularisation term does not affect the loss gradients \n",
    "    gstep = tf.constant(0,dtype=tf.float32) \n",
    "    anstep = tf.constant(1,dtype=tf.float32) \n",
    "    ent2 = entropy(prob2) # entropy tensor\n",
    "\n",
    "    \n",
    "# this loss function def is strange. 'probs' has to be passed to fgm, but the loss function requires alpha.\n",
    "# in this function, y_pred is used as an alias for alpha.\n",
    "def mse_loss_fgm(y_true,y_pred, global_step=gstep, annealing_step=anstep): \n",
    "    p = y_true\n",
    "    alpha = y_pred \n",
    "    S = tf.reduce_sum(alpha, axis=1, keep_dims=True) \n",
    "    E = alpha - 1\n",
    "    m = alpha / S\n",
    "    \n",
    "    A = tf.reduce_sum((p-m)**2, axis=1, keep_dims=True) \n",
    "    B = tf.reduce_sum(alpha*(S-alpha)/(S*S*(S+1)), axis=1, keep_dims=True) \n",
    "    \n",
    "    annealing_coef = tf.minimum(1.0,tf.cast(global_step/annealing_step,tf.float32))\n",
    "    \n",
    "    alp = E*(1-p) + 1 \n",
    "    C =  annealing_coef * KL(alp)\n",
    "    return (A + B) + C\n",
    "\n",
    "us = []\n",
    "test_accs = []\n",
    "entropies = []\n",
    "for eps in np.linspace(0,1,11):\n",
    "    with g2.as_default():\n",
    "        x_adv = fgm(X2, alpha, eps=eps, clip_min=None, clip_max=None, loss_fn = mse_loss_fgm)\n",
    "\n",
    "    prob = sess2.run(prob2,feed_dict={X2:mnist.test.images, Y2:mnist.test.labels, keep_prob2:1.})\n",
    "    x_ = sess2.run(x_adv,feed_dict={X2:mnist.test.images, prob2:prob, keep_prob2: 1.})\n",
    "    x_ = x_/np.max(x_,1,keepdims=True) # preprocessing step\n",
    "    prob_adv, test_acc, ent_adv,alpha_pred = sess2.run([prob2, acc2, ent2,alpha ], feed_dict={X2:x_,Y2:mnist.test.labels,keep_prob2:1.})\n",
    "    u_pred = num_classes/np.sum(alpha_pred, 1, keepdims=False)\n",
    "    test_accs.append(test_acc)\n",
    "    mean_ent = np.mean(ent_adv)\n",
    "    entropies.append(mean_ent)\n",
    "    us.append(np.mean(u_pred)) # mean uncertainty\n",
    "    print('Accuracy : %2.4f Mean entropy : %2.4f for eps : %.2f Mean uncertainty : %.2f' % (test_acc, mean_ent, eps, np.mean(u_pred)))\n"
   ]
  },
  {
   "cell_type": "code",
   "execution_count": 25,
   "metadata": {
    "colab": {
     "base_uri": "https://localhost:8080/",
     "height": 283
    },
    "colab_type": "code",
    "id": "aQFkCy2i_WjY",
    "outputId": "ad71d734-1403-453e-94bf-bacaf6fa1ead"
   },
   "outputs": [
    {
     "data": {
      "image/png": "[encoded data removed]",
      "text/plain": [
       "<Figure size 432x288 with 1 Axes>"
      ]
     },
     "metadata": {
      "needs_background": "light"
     },
     "output_type": "display_data"
    }
   ],
   "source": [
    "plt.plot(np.linspace(0,1,11),us,'-*')\n",
    "plt.xlabel('Epsilon')\n",
    "plt.xlim(left=0)\n",
    "plt.ylim(0,1)\n",
    "plt.ylabel('Mean uncertainty')\n",
    "plt.show()"
   ]
  },
  {
   "cell_type": "markdown",
   "metadata": {},
   "source": [
    "## Can the model say \"*I do not know*\"?"
   ]
  },
  {
   "cell_type": "code",
   "execution_count": 26,
   "metadata": {
    "colab": {
     "base_uri": "https://localhost:8080/",
     "height": 283
    },
    "colab_type": "code",
    "id": "DBB0ec7AIVRK",
    "outputId": "dde611cd-27c9-4ec8-9f67-34d319356838"
   },
   "outputs": [
    {
     "data": {
      "image/png": "[encoded data removed]",
      "text/plain": [
       "<Figure size 432x288 with 1 Axes>"
      ]
     },
     "metadata": {
      "needs_background": "light"
     },
     "output_type": "display_data"
    }
   ],
   "source": [
    "# mnist models trained are tested on an image for the cifar10 dataset. \n",
    "\n",
    "from keras.datasets import cifar10\n",
    "(X_train,Y_train), (X_test, Y_test) = cifar10.load_data()\n",
    "import cv2\n",
    "img = X_train[0]\n",
    "img = cv2.cvtColor(img,cv2.COLOR_RGB2GRAY) # convert to gray\n",
    "img = cv2.resize(img, (28,28)) \n",
    "plt.imshow(img,cmap='gray') # resized gray scale image is visualized. This is exactly what the model sees.\n",
    "plt.show()"
   ]
  },
  {
   "cell_type": "code",
   "execution_count": 27,
   "metadata": {
    "colab": {
     "base_uri": "https://localhost:8080/",
     "height": 35
    },
    "colab_type": "code",
    "id": "ErvwdRPsKiWe",
    "outputId": "e7b54d36-c6d6-4978-92ad-0f6ebe66a1e7"
   },
   "outputs": [
    {
     "name": "stdout",
     "output_type": "stream",
     "text": [
      "softmax prob:  [0. 0. 1. 0. 0. 0. 0. 0. 0. 0.]\n",
      "Class predicted : 2 with confidence 1.0!\n"
     ]
    }
   ],
   "source": [
    "# probabilities given \n",
    "p1 = sess1.run(prob1, feed_dict={X1:img.reshape(1,-1), keep_prob1:1.0})\n",
    "probs = np.round(p1[0], decimals=3)\n",
    "print('softmax prob: ', probs) \n",
    "print('Class predicted : {} with confidence {}!'.format(np.argmax(probs), np.max(probs)))"
   ]
  },
  {
   "cell_type": "code",
   "execution_count": 28,
   "metadata": {
    "colab": {
     "base_uri": "https://localhost:8080/",
     "height": 53
    },
    "colab_type": "code",
    "id": "Scc28IuMIXvh",
    "outputId": "76d7ddd9-91a1-41dc-de86-e81556951a1b"
   },
   "outputs": [
    {
     "name": "stdout",
     "output_type": "stream",
     "text": [
      " prob:  [0.1 0.1 0.1 0.1 0.1 0.1 0.1 0.1 0.1 0.1]\n",
      "uncertainty : [1.]\n"
     ]
    }
   ],
   "source": [
    "p2, u_pred = sess2.run([prob2, u], feed_dict={X2:img.reshape(1,-1), keep_prob2:1.0})\n",
    "print(' prob: ', np.round(p2[0], decimals=3))\n",
    "print('uncertainty :', u_pred[0])\n",
    "## model gives an uncertainty of 1.0, as expected for an out of distribution query"
   ]
  },
  {
   "cell_type": "code",
   "execution_count": 29,
   "metadata": {
    "colab": {},
    "colab_type": "code",
    "id": "YwwM2zx8QW7h"
   },
   "outputs": [],
   "source": [
    "with open('./results/accuracies_edl.pkl','wb') as f:\n",
    "    pickle.dump(test_accs,f)\n",
    "with open('./results/entropies_edl.pkl','wb') as f:\n",
    "    pickle.dump(entropies,f)"
   ]
  },
  {
   "cell_type": "code",
   "execution_count": 30,
   "metadata": {
    "colab": {
     "base_uri": "https://localhost:8080/",
     "height": 545
    },
    "colab_type": "code",
    "id": "t7QwaM2rLvS6",
    "outputId": "f694c784-ba51-4c30-c518-31c9b4010e24"
   },
   "outputs": [
    {
     "data": {
      "image/png": "[encoded data removed]",
      "text/plain": [
       "<Figure size 432x288 with 1 Axes>"
      ]
     },
     "metadata": {
      "needs_background": "light"
     },
     "output_type": "display_data"
    },
    {
     "data": {
      "image/png": "[encoded data removed]",
      "text/plain": [
       "<Figure size 432x288 with 1 Axes>"
      ]
     },
     "metadata": {
      "needs_background": "light"
     },
     "output_type": "display_data"
    }
   ],
   "source": [
    "import matplotlib.pyplot as plt\n",
    "\n",
    "plt.plot(np.linspace(0,1,11),test_accs,'-*')\n",
    "plt.xlabel('Epsilon')\n",
    "plt.xlim(left=0)\n",
    "plt.ylabel('Accuracy')\n",
    "plt.show()\n",
    "plt.plot(np.linspace(0,1,11),np.array(entropies)/np.log(10),'g')\n",
    "plt.xlabel('Epsilon')\n",
    "plt.ylabel('% Max entropy')\n",
    "plt.xlim(left=0)\n",
    "plt.ylim(0,1)\n",
    "plt.show()"
   ]
  }
 ],
 "metadata": {
  "accelerator": "GPU",
  "colab": {
   "name": "Untitled",
   "provenance": []
  },
  "kernelspec": {
   "display_name": "Python 3",
   "language": "python",
   "name": "python3"
  },
  "language_info": {
   "codemirror_mode": {
    "name": "ipython",
    "version": 3
   },
   "file_extension": ".py",
   "mimetype": "text/x-python",
   "name": "python",
   "nbconvert_exporter": "python",
   "pygments_lexer": "ipython3",
   "version": "3.7.6"
  }
 },
 "nbformat": 4,
 "nbformat_minor": 1
}
