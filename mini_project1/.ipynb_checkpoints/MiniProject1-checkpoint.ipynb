{
 "cells": [
  {
   "cell_type": "code",
   "execution_count": 1,
   "metadata": {},
   "outputs": [],
   "source": [
    "import numpy as np\n",
    "import os \n",
    "import argparse\n",
    "import cmath\n",
    "import random\n",
    "from numpy.linalg import norm\n",
    "from numpy.linalg import inv\n",
    "from numpy import matmul, transpose\n",
    "import matplotlib.pyplot as plt\n",
    "j = complex(0,1)\n",
    "\n",
    "Y_SIZE = 512\n",
    "H_SIZE = 32\n",
    "SIG1 = np.sqrt(0.001)\n",
    "SIG2 = np.sqrt(0.1)\n",
    "LAMBDA = 0.2\n",
    "M = 100 # Number of trials"
   ]
  },
  {
   "cell_type": "code",
   "execution_count": 62,
   "metadata": {},
   "outputs": [],
   "source": [
    "# Constructing X and F\n",
    "\n",
    "F = np.empty((Y_SIZE,H_SIZE),dtype=np.csingle) \n",
    "for i in range(F.shape[0]):\n",
    "    for k in range(F.shape[1]):\n",
    "        F[i][k] = cmath.exp(1j*(2*cmath.pi*i*k/512))        \n",
    "\n",
    "# Noise vectors of different variances\n",
    "# n1 = np.random.normal(loc=0, scale=SIG1,size=(Y_SIZE,2)).view(np.complex128)\n",
    "# n2 = np.random.normal(loc=0, scale=SIG2,size=(Y_SIZE,2)).view(np.complex128)\n",
    "\n",
    "# Constructing h\n",
    "def get_x_h():\n",
    "    x = np.random.choice([1+1j,1-1j,-1+1j,-1-1j],size=Y_SIZE)\n",
    "    X = np.diag(x,k=0)\n",
    "    p = np.asarray([np.exp(-1*(LAMBDA)*i) for i in range(H_SIZE)])\n",
    "    p = p/norm(p)\n",
    "    a = np.random.normal(scale=0.5,size=H_SIZE)\n",
    "    b = np.random.normal(scale=0.5,size=H_SIZE)\n",
    "    # Reshape added else y was taking size 512*512\n",
    "    h = np.multiply(p,a+b*j).reshape(-1,1)\n",
    "    return X,h\n",
    "\n",
    "# Calculate A, where A = XF and y = XFh + n\n",
    "X,h = get_x_h()\n",
    "# print(h)\n",
    "A = matmul(X,F)"
   ]
  },
  {
   "cell_type": "code",
   "execution_count": 63,
   "metadata": {},
   "outputs": [],
   "source": [
    "def pinv(A, alpha=0):\n",
    "    Ah = np.asmatrix(A).getH()\n",
    "    return  matmul(inv(matmul(Ah,A)+alpha*np.eye(np.shape(Ah)[0])),Ah)\n",
    "\n",
    "def squared_error_theo(design_matrix, vector, alpha=0):\n",
    "    projection_matrix = np.matmul(design_matrix, pinv(design_matrix, alpha))\n",
    "    I = np.eye(np.shape(projection_matrix)[0])\n",
    "    projection_matrix_perp = I - projection_matrix\n",
    "    return norm(np.matmul(projection_matrix_perp, vector))**2"
   ]
  },
  {
   "cell_type": "code",
   "execution_count": 5,
   "metadata": {},
   "outputs": [],
   "source": [
    "def normalized_difference(y_original, y_hat):\n",
    "    return norm(y_original-y_hat)/norm(y_original)\n",
    "\n",
    "def squared_error(vector1, vector2):\n",
    "    return norm(vector1-vector2)**2\n"
   ]
  },
  {
   "cell_type": "code",
   "execution_count": 64,
   "metadata": {},
   "outputs": [
    {
     "name": "stdout",
     "output_type": "stream",
     "text": [
      " MSE Theoretical : 0.9652914132026958\n",
      " MSE Calculated : 0.9652914132026958\n"
     ]
    }
   ],
   "source": [
    "# Q1\n",
    "def estimate_vanilla_h(A,h,sig=SIG1, rse=False):\n",
    "    n = np.random.normal(loc=0, scale=sig,size=(Y_SIZE,2)).view(np.complex128)\n",
    "    y = matmul(A,h) + n\n",
    "    h_hat = matmul(pinv(A), y)\n",
    "    d = normalized_difference(h,h_hat)\n",
    "    y_hat = np.matmul(A, h_hat)\n",
    "#     print(norm(y)**2)\n",
    "#     print(f\"[Vanilla] Normalized difference for variance {np.round(sig**2, decimals=3)} : {d}\")\n",
    "    error_theoretical = squared_error_theo(A, y)\n",
    "    error_calculated = squared_error(y, y_hat)\n",
    "    if rse:\n",
    "        return h_hat,d, error_theoretical, error_calculated\n",
    "    else:\n",
    "        return h_hat,d\n",
    "\n",
    "# def estimate_vanilla_h(A,h,sig=SIG1):\n",
    "#     n = np.random.normal(loc=0, scale=sig,size=(Y_SIZE,2)).view(np.complex128)\n",
    "#     y = matmul(A,h) + n\n",
    "#     h_hat = matmul(pinv(A), y)\n",
    "#     d = normalized_difference(h,h_hat)\n",
    "# #     print(f\"[Vanilla] Normalized difference for variance {np.round(sig**2, decimals=3)} : {d}\")\n",
    "#     return h_hat,d\n",
    "    \n",
    "# estimate_vanilla_h(sig=SIG1)\n",
    "# estimate_vanilla_h(sig=SIG2)\n",
    "\n",
    "# Averaging over M trials\n",
    "def question1(M=M,sig=SIG1):\n",
    "    all_h = []\n",
    "    all_h_hat = []\n",
    "    error_theo = []\n",
    "    error_calc = []\n",
    "    for i in range(M):\n",
    "        X,h = get_x_h()\n",
    "        A = matmul(X,F)\n",
    "        h_hat, d, error_theo_, error_calc_ = estimate_vanilla_h(A,h,sig,True)\n",
    "        error_theo.append(error_theo_)\n",
    "        error_calc.append(error_calc_)\n",
    "        all_h.append(h)\n",
    "        all_h_hat.append(h_hat)\n",
    "    print(\" MSE Theoretical :\", np.mean(error_theo))\n",
    "    print(\" MSE Calculated :\", np.mean(error_calc))\n",
    "    return all_h, all_h_hat\n",
    "\n",
    "all_hq1, all_h_hatq1 = question1(M,sig=SIG1)\n",
    "mean_h = sum(all_hq1)/M\n",
    "mean_h_hat = sum(all_h_hatq1)/M"
   ]
  },
  {
   "cell_type": "code",
   "execution_count": 65,
   "metadata": {},
   "outputs": [
    {
     "name": "stdout",
     "output_type": "stream",
     "text": [
      "0.008454201579352276\n"
     ]
    },
    {
     "data": {
      "image/png": "[encoded data removed]",
      "text/plain": [
       "<Figure size 432x288 with 1 Axes>"
      ]
     },
     "metadata": {
      "needs_background": "light"
     },
     "output_type": "display_data"
    },
    {
     "data": {
      "text/plain": [
       "<Figure size 2880x1440 with 0 Axes>"
      ]
     },
     "metadata": {},
     "output_type": "display_data"
    }
   ],
   "source": [
    "print(normalized_difference(all_hq1[0],all_h_hatq1[0]))\n",
    "def plot_h(h,h_hat):\n",
    "    m = len(h)\n",
    "#     print(normalized_difference(mean_h,mean_h_hat))\n",
    "    norm_h = [norm(a) for a in h]\n",
    "    norm_h_hat = [norm(a) for a in h_hat]\n",
    "    plt.plot(np.arange(0,m),norm_h,'-b',label='h')\n",
    "    plt.plot(np.arange(0,m),norm_h_hat,'-r',label='h_hat')\n",
    "    plt.legend(loc='upper right')\n",
    "    plt.figure(figsize=(40,20))\n",
    "    plt.show()  \n",
    "\n",
    "plot_h(mean_h,mean_h_hat)"
   ]
  },
  {
   "cell_type": "code",
   "execution_count": 15,
   "metadata": {},
   "outputs": [
    {
     "name": "stdout",
     "output_type": "stream",
     "text": [
      " MSE Theoretical : 96.26369982213605\n",
      " MSE Calculated : 96.26369982213605\n",
      "0.2188853136586021\n"
     ]
    },
    {
     "data": {
      "image/png": "[encoded data removed]",
      "text/plain": [
       "<Figure size 432x288 with 1 Axes>"
      ]
     },
     "metadata": {
      "needs_background": "light"
     },
     "output_type": "display_data"
    },
    {
     "data": {
      "text/plain": [
       "<Figure size 2880x1440 with 0 Axes>"
      ]
     },
     "metadata": {},
     "output_type": "display_data"
    }
   ],
   "source": [
    "all_h2,all_h_hat2 = question1(sig=SIG2)\n",
    "print(normalized_difference(sum(all_h2),sum(all_h_hat2)))\n",
    "plot_h(all_h2[0],all_h_hat2[0])"
   ]
  },
  {
   "cell_type": "code",
   "execution_count": 66,
   "metadata": {},
   "outputs": [
    {
     "name": "stdout",
     "output_type": "stream",
     "text": [
      " MSE Theoretical : 0.9596722219160715\n",
      " MSE Calculated : 1.0244957293752683\n",
      "normalized difference : 0.05357299149599114\n"
     ]
    },
    {
     "data": {
      "image/png": "[encoded data removed]",
      "text/plain": [
       "<Figure size 432x288 with 1 Axes>"
      ]
     },
     "metadata": {
      "needs_background": "light"
     },
     "output_type": "display_data"
    },
    {
     "data": {
      "text/plain": [
       "<Figure size 2880x1440 with 0 Axes>"
      ]
     },
     "metadata": {},
     "output_type": "display_data"
    }
   ],
   "source": [
    "# Q2\n",
    "def estimate_sparse_h(A=A,h=h,sig=SIG1,sparsity_points=None,rse = False):\n",
    "    # rse is return squared errors\n",
    "    h_sparse = h\n",
    "    if sparsity_points is None:\n",
    "        sparsity_points = [i for i in random.sample(range(0,H_SIZE),H_SIZE-6)]\n",
    "    for i in sparsity_points:\n",
    "        h_sparse[i] = 0\n",
    "    n = np.random.normal(loc=0, scale=sig,size=(Y_SIZE,2)).view(np.complex128)\n",
    "    y_sparse = np.matmul(A,h_sparse) + n\n",
    "    constraints_matrix = np.zeros((len(sparsity_points), H_SIZE))\n",
    "    for i in range(len(sparsity_points)):\n",
    "        constraints_matrix[i,sparsity_points[i]]=1\n",
    "    h_hat_unconstrained = matmul(pinv(A), y_sparse)\n",
    "    Ah = np.asmatrix(A).getH()\n",
    "    \n",
    "    lambda_ = matmul(2*inv(matmul(matmul(constraints_matrix, inv(matmul(Ah, A))), \\\n",
    "                                  transpose(constraints_matrix))), matmul(constraints_matrix, h_hat_unconstrained))\n",
    "    h_hat_constrained = h_hat_unconstrained - 0.5*matmul(matmul(inv(matmul(Ah,A)), \\\n",
    "                                                                transpose(constraints_matrix)), lambda_)\n",
    "    d_constrained = normalized_difference(h_sparse,h_hat_constrained)\n",
    "\n",
    "    y_hat = A@h_sparse\n",
    "    error_theoretical = squared_error_theo(A, y_sparse)\n",
    "    error_calculated = squared_error(y_sparse, y_hat)\n",
    "    \n",
    "    if rse:\n",
    "        return h_hat_constrained,d_constrained, error_theoretical, error_calculated\n",
    "    else:\n",
    "#     print(f\"[Sparse] Normalized difference for variance {np.round(sig**2, decimals=3)} : {d_constrained}\")\n",
    "        return h_hat_constrained,d_constrained\n",
    "\n",
    "# estimate_sparse_h(sig=SIG1)\n",
    "# estimate_sparse_h(sig=SIG2)\n",
    "\n",
    "def question2(M=M,sig=SIG1,sparsity_points=None):\n",
    "    all_h = []\n",
    "    all_h_hat = []\n",
    "    error_theo = []\n",
    "    error_calc = []\n",
    "    for i in range(M):\n",
    "        X,h = get_x_h()\n",
    "        if not sparsity_points:\n",
    "            sparsity_points = [i for i in random.sample(range(0,H_SIZE),H_SIZE-6)]\n",
    "        h[sparsity_points] = 0\n",
    "#         print(h)\n",
    "        A = matmul(X,F)\n",
    "        h_hat,d, error_theo_, error_calc_= estimate_sparse_h(A,h,sig,sparsity_points,rse=True)\n",
    "        all_h.append(h)\n",
    "        all_h_hat.append(h_hat)\n",
    "        error_theo.append(error_theo_)\n",
    "        error_calc.append(error_calc_)\n",
    "    print(\" MSE Theoretical :\", np.mean(error_theo))\n",
    "    print(\" MSE Calculated :\", np.mean(error_calc))\n",
    "    return all_h, all_h_hat\n",
    "\n",
    "all_hq2,all_h_hatq2 = question2(M,SIG1)\n",
    "print(\"normalized difference :\", normalized_difference(sum(all_hq2)/M,sum(all_h_hatq2)/M))\n",
    "plot_h(all_hq2[0],all_h_hatq2[0])"
   ]
  },
  {
   "cell_type": "code",
   "execution_count": 19,
   "metadata": {},
   "outputs": [
    {
     "name": "stdout",
     "output_type": "stream",
     "text": [
      " MSE Theoretical : 96.00321847097526\n",
      " MSE Calculated : 102.22391026918734\n",
      "0.1092284710247833\n"
     ]
    },
    {
     "data": {
      "image/png": "[encoded data removed]",
      "text/plain": [
       "<Figure size 432x288 with 1 Axes>"
      ]
     },
     "metadata": {
      "needs_background": "light"
     },
     "output_type": "display_data"
    },
    {
     "data": {
      "text/plain": [
       "<Figure size 2880x1440 with 0 Axes>"
      ]
     },
     "metadata": {},
     "output_type": "display_data"
    }
   ],
   "source": [
    "all_h2q2,all_h_hat2q2 = question2(M,SIG2)\n",
    "print(normalized_difference(sum(all_h2q2),sum(all_h_hat2q2)))\n",
    "plot_h(all_h2q2[10],all_h_hat2q2[10])\n",
    "# all_h_hat[0]\n",
    "# norm(all_h_hat[0])\n"
   ]
  },
  {
   "cell_type": "code",
   "execution_count": 8,
   "metadata": {},
   "outputs": [],
   "source": [
    "# Q3\n",
    "\n",
    "# # Set guard bands of width 180 on either side\n",
    "# X_ = X.copy()\n",
    "# X_[:180] = 0\n",
    "# X_[-180:] = 0\n",
    "# A_ = matmul(X_,F)\n",
    "\n",
    "# y1_ = matmul(A_,h) + n1\n",
    "# y2_ = matmul(A_,h) + n2\n",
    "\n",
    "# # define alpha values\n",
    "# alpha1 = 1\n",
    "# alpha2 = 1\n",
    "\n",
    "# ## LSE\n",
    "# h_hat1_ = matmul(pinv(A_, alpha1), y1_)\n",
    "# h_hat2_ = matmul(pinv(A_, alpha2), y2_)\n",
    "# d1_ = normalized_difference(h,h_hat1_)\n",
    "# d2_ = normalized_difference(h,h_hat2_)\n",
    "\n",
    "# # print(\"h vector was : \",h)\n",
    "# # print(\"h_hat1 vector is :\",h_hat1)\n",
    "# # print(\"h_hat2 vector is :\",h_hat2)\n",
    "# print(f\"Normalized difference for variance {np.round(SIG1**2, decimals=3)} and alpha {alpha1} : {d1}\")\n",
    "# print(f\"Normalized difference for variance {np.round(SIG2**2, decimals=1)} and alpha {alpha2} : {d2}\")"
   ]
  },
  {
   "cell_type": "code",
   "execution_count": 68,
   "metadata": {},
   "outputs": [
    {
     "name": "stdout",
     "output_type": "stream",
     "text": [
      "MSE theoretical vanilla:  41114.81375104013\n",
      "MSE calc vanilla:  41114.81375147063\n",
      "MSE theoretical sparse:  10807.664730028719\n",
      "MSE calc sparse:  1.0250463736455153\n",
      "non reg :\n",
      "\n",
      "MSE theoretical vanilla:  0.0001714293868432051\n",
      "MSE calc vanilla:  0.9942458543205436\n"
     ]
    }
   ],
   "source": [
    "# Q3a\n",
    "def estimate_guard_h_no_reg(A,h,h_,sig,sparsity_points,rse=False):\n",
    "    # h_ is sparse h generated\n",
    "    if rse:\n",
    "        h_vanilla,d_vanilla,et_v, ec_v = estimate_vanilla_h(A=A,h=h,sig=sig, rse=True)\n",
    "        h_sparse,d_sparse, et_s, ec_s = estimate_sparse_h(A=A,h=h_,sig=sig,sparsity_points=sparsity_points, rse=True)\n",
    "        return h_vanilla, h_sparse, et_v, ec_v, et_s, ec_s \n",
    "    else:\n",
    "        h_vanilla,d_vanilla = estimate_vanilla_h(A=A,h=h,sig=sig)\n",
    "        h_sparse,d_sparse = estimate_sparse_h(A=A,h=h_,sig=sig,sparsity_points=sparsity_points)\n",
    "        return h_vanilla, h_sparse, 0,0,0,0\n",
    "        \n",
    "sparse =  [i for i in random.sample(range(0,H_SIZE),H_SIZE-6)]\n",
    "h_ = h.copy()\n",
    "h_[sparse] = 0\n",
    "X_ = X.copy()\n",
    "X_[:180] = 0\n",
    "X_[-180:] = 0\n",
    "A = matmul(X_,F)\n",
    "\n",
    "h_vanilla,h_sparse, et_v, ec_v, et_s, ec_s = estimate_guard_h_no_reg(A,h,h_,SIG1,sparse, rse=True)\n",
    "# print(et_v, ec_v, et_s, ec_s)\n",
    "# print(normalized_difference(h2,h_))\n",
    "# Q3b\n",
    "def estimate_guard_h_reg(A=A,h=h,alpha=1,sig=SIG1):\n",
    "    n = np.random.normal(loc=0, scale=sig,size=(Y_SIZE,2)).view(np.complex128)\n",
    "    y_ = matmul(A,h) + n\n",
    "    h_hat_ = matmul(pinv(A, alpha), y_)\n",
    "    d_ = normalized_difference(h,h_hat_)\n",
    "    y_hat = A@h_hat_\n",
    "    error_theoretical = squared_error_theo(A, y_hat,alpha=alpha)\n",
    "    error_calculated = squared_error(y_, y_hat)\n",
    "    return h_hat_, error_theoretical, error_calculated\n",
    "    \n",
    "# estimate_guard_h_reg(alpha=0.01,sig=SIG1)\n",
    "h_hat = estimate_guard_h_reg(A,h,alpha=0.01,sig=SIG1)\n",
    "# print(normalized_difference(h,h_hat))\n",
    "def question3_no_reg(M,sig=SIG1,sparsity_points=None):\n",
    "    all_h = [[]]*4 # h, h_hat, h_sparse, h_hat_sparse\n",
    "    errors = [0]*4\n",
    "    for i in range(M):\n",
    "        X,h = get_x_h()\n",
    "        X[:180] = 0\n",
    "        X[-180:] = 0\n",
    "        A = matmul(X,F)\n",
    "        h_ = h.copy()\n",
    "        if not sparsity_points:\n",
    "            sparsity_points = [i for i in random.sample(range(0,H_SIZE),H_SIZE-6)]\n",
    "        h_[sparsity_points] = 0\n",
    "        h_vanilla,h_sparse, et_v, ec_v, et_s, ec_s = estimate_guard_h_no_reg(A,h,h_,sig,sparsity_points,True)\n",
    "        all_h[1].append(h_vanilla)\n",
    "        all_h[3].append(h_sparse)\n",
    "        all_h[0].append(h)\n",
    "        all_h[2].append(h_)\n",
    "#         print(et_v)\n",
    "        \n",
    "        errors[0] += et_v\n",
    "        errors[1] += ec_v\n",
    "        errors[2] += et_s\n",
    "        errors[3] += ec_s\n",
    "        \n",
    "    print('MSE theoretical vanilla: ',errors[0]/M)\n",
    "    print('MSE calc vanilla: ',errors[1]/M)\n",
    "    print('MSE theoretical sparse: ',errors[2]/M)\n",
    "    print('MSE calc sparse: ',errors[3]/M)\n",
    "    return all_h\n",
    "\n",
    "def question3_reg(M,alpha=10,sig=SIG1):\n",
    "    all_h = [[]]*2 # h, h_hat, h_sparse, h_hat_sparse\n",
    "    errors = [0]*2\n",
    "    for i in range(M):\n",
    "        X,h = get_x_h()\n",
    "        X[:180] = 0\n",
    "        X[-180:] = 0\n",
    "        A = matmul(X,F)\n",
    "        h_vanilla,et_v, ec_v = estimate_guard_h_reg(A,h,alpha,sig)\n",
    "        all_h[0].append(h)\n",
    "        all_h[1].append(h_vanilla)\n",
    "        \n",
    "        errors[0] += et_v\n",
    "        errors[1] += ec_v\n",
    "        \n",
    "    print('MSE theoretical vanilla: ',errors[0]/M)\n",
    "    print('MSE calc vanilla: ',errors[1]/M)\n",
    "    return all_h\n",
    "\n",
    "all_h = question3_no_reg(M=10,sig=SIG1)\n",
    "print(\"\\n non reg :\\n\")\n",
    "all_h = question3_reg(M=100,alpha=0.01,sig=SIG1)\n",
    "# all_hv, all_hv_hat, all_hs, all_hs_hat = all_h\n",
    "\n",
    "# print(all_hv[0])\n",
    "# error = [np.sum(norm(all_hv[i]-all_hv_hat[i])**2) for i in range(len(all_hv))]"
   ]
  },
  {
   "cell_type": "code",
   "execution_count": 70,
   "metadata": {},
   "outputs": [
    {
     "name": "stdout",
     "output_type": "stream",
     "text": [
      " MSE Theoretical : 1.4190564531512819e-28\n",
      " MSE Calculated : 0.9446068338265347\n"
     ]
    }
   ],
   "source": [
    "# Q4\n",
    "\n",
    "# Building constraints matrix\n",
    "number_of_constraints = 3\n",
    "constraints_matrix = np.zeros((number_of_constraints, H_SIZE))\n",
    "constraints_matrix[0,0]=1\n",
    "constraints_matrix[0,1]=-1\n",
    "constraints_matrix[1,2]=1\n",
    "constraints_matrix[1,3]=-1\n",
    "constraints_matrix[2,4]=1\n",
    "constraints_matrix[2,5]=-1\n",
    "\n",
    "def estimate_constrained_h(A=A,h=h,sig=SIG1):\n",
    "    h_constrained = h\n",
    "    h_constrained[0] = h_constrained[1]\n",
    "    h_constrained[2] = h_constrained[3]\n",
    "    h_constrained[4] = h_constrained[5]\n",
    "    \n",
    "    n = np.random.normal(loc=0, scale=sig,size=(Y_SIZE,2)).view(np.complex128)\n",
    "    y_constrained = np.matmul(A,h_constrained) + n\n",
    "\n",
    "    h_hat_unconstrained = matmul(pinv(A), y_constrained)\n",
    "    Ah = np.asmatrix(A).getH()\n",
    "    lambda_ = matmul(2*inv(matmul(matmul(constraints_matrix, inv(matmul(Ah, A))),\\\n",
    "                                  transpose(constraints_matrix))), matmul(constraints_matrix, h_hat_unconstrained))\n",
    "    h_hat_constrained = h_hat_unconstrained - 0.5*matmul(matmul(inv(matmul(Ah,A)),\\\n",
    "                                                                transpose(constraints_matrix)), lambda_)\n",
    "    d_constrained = normalized_difference(h_constrained,h_hat_constrained)\n",
    "#     print(f\"[Constrained] Normalized difference for variance {np.round(sig**2, decimals=3)} : {d_constrained}\")\n",
    "    y_hat = A@h_hat_constrained\n",
    "    error_theoretical = squared_error_theo(A, y_hat,alpha=0)\n",
    "    error_calculated = squared_error(y_constrained, y_hat)\n",
    "    return h_hat_constrained,error_theoretical,error_calculated\n",
    "\n",
    "# estimate_constrained_h(sig=SIG1)\n",
    "# estimate_constrained_h(sig=SIG2)\n",
    "\n",
    "def question4(M=M,sig=SIG1):\n",
    "    all_h = []\n",
    "    all_h_hat = []\n",
    "    error_theo = 0\n",
    "    error_calc = 0\n",
    "    for i in range(M):\n",
    "        X,h = get_x_h()\n",
    "#         print(h)\n",
    "        A = matmul(X,F)\n",
    "        h_hat, error_theo_, error_calc_= estimate_constrained_h(A,h,sig)\n",
    "        all_h.append(h)\n",
    "        all_h_hat.append(h_hat)\n",
    "        error_theo += error_theo_\n",
    "        error_calc += error_calc_\n",
    "    print(\" MSE Theoretical :\", error_theo/M)\n",
    "    print(\" MSE Calculated :\", error_calc/M)\n",
    "    return all_h,all_h_hat\n",
    "    \n",
    "\n",
    "a= question4(M=10,sig=SIG1)"
   ]
  },
  {
   "cell_type": "code",
   "execution_count": 119,
   "metadata": {},
   "outputs": [
    {
     "name": "stdout",
     "output_type": "stream",
     "text": [
      "[0, 2, 4, 5, 6, 8, 9, 10, 11, 12, 13, 14, 15, 16, 17, 18, 19, 21, 22, 23, 24, 25, 27, 29, 30, 31]\n"
     ]
    },
    {
     "name": "stderr",
     "output_type": "stream",
     "text": [
      "/home/subhankar/anaconda3/envs/ml/lib/python3.6/site-packages/ipykernel_launcher.py:2: RuntimeWarning: divide by zero encountered in double_scalars\n",
      "  \n"
     ]
    }
   ],
   "source": [
    "# Q5\n",
    "\n",
    "\n",
    "def question5(A,h,alpha=0,sig=SIG1):\n",
    "    Somp = []\n",
    "    n = np.random.normal(loc=0, scale=sig,size=(Y_SIZE,2)).view(np.complex128)\n",
    "    # ran_sparse = \n",
    "    y = matmul(A,h) +n\n",
    "    r = y.copy()\n",
    "    ko = 6\n",
    "    Ah = np.asmatrix(A).getH()\n",
    "    for k in range(ko):\n",
    "        t_ = np.matmul(Ah,r)\n",
    "        t = np.argmax(np.abs(np.matmul(Ah,r)))\n",
    "        Somp.append(int(t))\n",
    "        p = np.matmul(A[:,Somp],pinv(A[:,Somp],alpha))\n",
    "        r = np.matmul((np.eye(Y_SIZE) - p),y) \n",
    "\n",
    "    sparsity_points = [x for x in range(H_SIZE) if x not in Somp]\n",
    "    return sparsity_points\n",
    "\n",
    "sparsity_points = question5(A,h,sig=SIG1)\n",
    "print(sparsity_points)\n",
    "h_hat,d = estimate_sparse_h(A=A,h=h,sig=SIG2,sparsity_points=sparsity_points)\n",
    "X_ = X.copy()\n",
    "X_[:180] = 0\n",
    "X_[-180:] = 0\n",
    "\n",
    "A_ = X_@F\n",
    "sp_p = question5(A_,h,1)\n",
    "h_, d_ = estimate_sparse_h(A=A,h=h,sig=SIG2,sparsity_points=sp_p)\n",
    "# print(h_)"
   ]
  }
 ],
 "metadata": {
  "kernelspec": {
   "display_name": "Python 3",
   "language": "python",
   "name": "python3"
  },
  "language_info": {
   "codemirror_mode": {
    "name": "ipython",
    "version": 3
   },
   "file_extension": ".py",
   "mimetype": "text/x-python",
   "name": "python",
   "nbconvert_exporter": "python",
   "pygments_lexer": "ipython3",
   "version": "3.6.9"
  }
 },
 "nbformat": 4,
 "nbformat_minor": 2
}
