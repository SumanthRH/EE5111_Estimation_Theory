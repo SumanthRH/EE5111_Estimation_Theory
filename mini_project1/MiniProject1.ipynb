{
 "cells": [
  {
   "cell_type": "code",
   "execution_count": 101,
   "metadata": {},
   "outputs": [],
   "source": [
    "import numpy as np\n",
    "import os \n",
    "import argparse\n",
    "import cmath\n",
    "import random\n",
    "from numpy.linalg import norm\n",
    "from numpy.linalg import inv\n",
    "from numpy import matmul, transpose\n",
    "j= complex(0,1)\n",
    "Y_SIZE=512\n",
    "H_SIZE=32\n",
    "SIG1 = np.sqrt(0.001)\n",
    "SIG2 = np.sqrt(0.1)\n",
    "LAMBDA = 0.2"
   ]
  },
  {
   "cell_type": "code",
   "execution_count": 102,
   "metadata": {},
   "outputs": [],
   "source": [
    "## Constructing X and F\n",
    "x = np.random.choice([1+1j,1-1j,-1+1j,-1-1j],size=Y_SIZE)\n",
    "X = np.diag(x,k=0)\n",
    "F = np.empty((Y_SIZE,H_SIZE),dtype=np.csingle)\n",
    "for i in range(F.shape[0]):\n",
    "    for k in range(F.shape[1]):\n",
    "        F[i][k] = cmath.exp(1j*(2*cmath.pi*i*k/512))        \n",
    "# n = np.random.normal(scale=SIG**2,size=Y_SIZE)\n",
    "n1 = np.random.normal(loc=0, scale=SIG1,size=(Y_SIZE,2)).view(np.complex128)\n",
    "n2 = np.random.normal(loc=0, scale=SIG2,size=(Y_SIZE,2)).view(np.complex128)"
   ]
  },
  {
   "cell_type": "code",
   "execution_count": 103,
   "metadata": {},
   "outputs": [],
   "source": [
    "def pinv(A, alpha=0):\n",
    "    Ah = np.asmatrix(A).getH()\n",
    "    return  matmul(inv(matmul(Ah,A)+alpha*np.eye(np.shape(Ah)[0])),Ah)"
   ]
  },
  {
   "cell_type": "code",
   "execution_count": 104,
   "metadata": {},
   "outputs": [],
   "source": [
    "def normalized_difference(y_original, y_hat):\n",
    "    return norm(y_original-y_hat)/norm(y_original)"
   ]
  },
  {
   "cell_type": "code",
   "execution_count": 127,
   "metadata": {
    "scrolled": true
   },
   "outputs": [
    {
     "name": "stdout",
     "output_type": "stream",
     "text": [
      "Normalized difference for variance 0.001 : 0.021055327863385917\n",
      "Normalized difference for variance 0.1 : 0.20672696983170577\n"
     ]
    }
   ],
   "source": [
    "# Q1\n",
    "## Constructing h\n",
    "p = np.asarray([np.exp(-1*(LAMBDA)*i) for i in range(H_SIZE)])\n",
    "p = p/np.sum(p**2)\n",
    "a = np.random.normal(scale=0.5,size=H_SIZE)\n",
    "b = np.random.normal(scale=0.5,size=H_SIZE)\n",
    "\n",
    "# Reshape added else y was taking size 512*512\n",
    "h = np.multiply(p,a+b*j).reshape(-1,1)\n",
    "\n",
    "## Observations \n",
    "A = matmul(X,F)\n",
    "\n",
    "y1 = matmul(A,h) + n1\n",
    "y2 = matmul(A,h) + n2\n",
    "\n",
    "## LSE\n",
    "h_hat1 = matmul(pinv(A), y1)\n",
    "h_hat2 = matmul(pinv(A), y2)\n",
    "d1 = normalized_difference(h,h_hat1)\n",
    "d2 = normalized_difference(h,h_hat2)\n",
    "# print(\"h vector was : \",h)\n",
    "# print(\"h_hat1 vector is :\",h_hat1)\n",
    "# print(\"h_hat2 vector is :\",h_hat2)\n",
    "print(f\"Normalized difference for variance {np.round(SIG1**2, decimals=3)} : {d1}\")\n",
    "print(f\"Normalized difference for variance {np.round(SIG2**2, decimals=1)} : {d2}\")"
   ]
  },
  {
   "cell_type": "code",
   "execution_count": 106,
   "metadata": {},
   "outputs": [
    {
     "name": "stdout",
     "output_type": "stream",
     "text": [
      "Normalized difference for variance 0.001 : 0.005896221721215871\n",
      "Normalized difference for variance 0.1 : 0.07062524118259851\n"
     ]
    }
   ],
   "source": [
    "### Q2\n",
    "### Sparse h \n",
    "h_sparse = h.copy()\n",
    "\n",
    "sparsity_points = [i for i in random.sample(range(0,H_SIZE),H_SIZE-6)]\n",
    "for i in sparsity_points:\n",
    "    h_sparse[i] = 0\n",
    "\n",
    "y1_sparse = np.matmul(A,h_sparse) + n1\n",
    "y2_sparse = np.matmul(A,h_sparse) + n2\n",
    "\n",
    "constraints_matrix = np.zeros((H_SIZE-6, H_SIZE))\n",
    "for i in range(len(sparsity_points)):\n",
    "    constraints_matrix[i,sparsity_points[i]]=1\n",
    "\n",
    "h_hat1_unconstrained = matmul(pinv(A), y1_sparse)\n",
    "Ah = np.asmatrix(A).getH()\n",
    "lambda_1 = matmul(2*inv(matmul(matmul(constraints_matrix, inv(matmul(Ah, A))),transpose(constraints_matrix))), matmul(constraints_matrix, h_hat1_unconstrained))\n",
    "h_hat1_constrained = h_hat1_unconstrained - 0.5*matmul(matmul(inv(matmul(Ah,A)), transpose(constraints_matrix)), lambda_1)\n",
    "d1_constrained = normalized_difference(h_sparse,h_hat1_constrained)\n",
    "\n",
    "h_hat2_unconstrained = matmul(pinv(A), y2_sparse)\n",
    "Ah = np.asmatrix(A).getH()\n",
    "lambda_2 = matmul(2*inv(matmul(matmul(constraints_matrix, inv(matmul(Ah, A))),transpose(constraints_matrix))), matmul(constraints_matrix, h_hat2_unconstrained))\n",
    "h_hat2_constrained = h_hat2_unconstrained - 0.5*matmul(matmul(inv(matmul(Ah,A)), transpose(constraints_matrix)), lambda_2)\n",
    "d2_constrained = normalized_difference(h_sparse,h_hat2_constrained)\n",
    "\n",
    "print(f\"Normalized difference for variance {np.round(SIG1**2, decimals=3)} : {d1_constrained}\")\n",
    "print(f\"Normalized difference for variance {np.round(SIG2**2, decimals=1)} : {d2_constrained}\")"
   ]
  },
  {
   "cell_type": "code",
   "execution_count": 155,
   "metadata": {},
   "outputs": [
    {
     "name": "stdout",
     "output_type": "stream",
     "text": [
      "Normalized difference for variance 0.001 and alpha 1 : 0.021055327863385917\n",
      "Normalized difference for variance 0.1 and alpha 1 : 0.20672696983170577\n"
     ]
    }
   ],
   "source": [
    "# Q3\n",
    "# Set guard bands of width 180 on either side\n",
    "X_ = X.copy()\n",
    "X_[:180]=0\n",
    "X_[-180:]=0\n",
    "A_ = matmul(X_,F)\n",
    "\n",
    "y1_ = matmul(A_,h) + n1\n",
    "y2_ = matmul(A_,h) + n2\n",
    "\n",
    "# define alpha values\n",
    "alpha1=1\n",
    "alpha2=1\n",
    "\n",
    "## LSE\n",
    "h_hat1_ = matmul(pinv(A_, alpha1), y1_)\n",
    "h_hat2_ = matmul(pinv(A_, alpha2), y2_)\n",
    "d1_ = normalized_difference(h,h_hat1_)\n",
    "d2_ = normalized_difference(h,h_hat2_)\n",
    "\n",
    "# print(\"h vector was : \",h)\n",
    "# print(\"h_hat1 vector is :\",h_hat1)\n",
    "# print(\"h_hat2 vector is :\",h_hat2)\n",
    "print(f\"Normalized difference for variance {np.round(SIG1**2, decimals=3)} and alpha {alpha1} : {d1}\")\n",
    "print(f\"Normalized difference for variance {np.round(SIG2**2, decimals=1)} and alpha {alpha2} : {d2}\")"
   ]
  },
  {
   "cell_type": "code",
   "execution_count": 160,
   "metadata": {},
   "outputs": [
    {
     "name": "stdout",
     "output_type": "stream",
     "text": [
      "Normalized difference for variance 0.001 : 0.024567249699645636\n",
      "Normalized difference for variance 0.1 : 0.23300819177448878\n"
     ]
    }
   ],
   "source": [
    "# Q4\n",
    "# Different set of constraints\n",
    "h_constrained = h.copy()\n",
    "number_of_constraints = 3\n",
    "h_constrained[0] = h_constrained[1]\n",
    "h_constrained[2] = h_constrained[3]\n",
    "h_constrained[4] = h_constrained[5]\n",
    "constraints_matrix = np.zeros((number_of_constraints, H_SIZE))\n",
    "constraints_matrix[0,0]=1\n",
    "constraints_matrix[0,1]=-1\n",
    "constraints_matrix[1,2]=1\n",
    "constraints_matrix[1,3]=-1\n",
    "constraints_matrix[2,4]=1\n",
    "constraints_matrix[2,5]=-1\n",
    "\n",
    "y1_constrained = np.matmul(A,h_constrained) + n1\n",
    "y2_constrained = np.matmul(A,h_constrained) + n2\n",
    "\n",
    "\n",
    "\n",
    "h_hat1_unconstrained = matmul(pinv(A), y1_constrained)\n",
    "Ah = np.asmatrix(A).getH()\n",
    "lambda_1 = matmul(2*inv(matmul(matmul(constraints_matrix, inv(matmul(Ah, A))),transpose(constraints_matrix))), matmul(constraints_matrix, h_hat1_unconstrained))\n",
    "h_hat1_constrained = h_hat1_unconstrained - 0.5*matmul(matmul(inv(matmul(Ah,A)), transpose(constraints_matrix)), lambda_1)\n",
    "d1_constrained = normalized_difference(h_constrained,h_hat1_constrained)\n",
    "\n",
    "h_hat2_unconstrained = matmul(pinv(A), y2_constrained)\n",
    "Ah = np.asmatrix(A).getH()\n",
    "lambda_2 = matmul(2*inv(matmul(matmul(constraints_matrix, inv(matmul(Ah, A))),transpose(constraints_matrix))), matmul(constraints_matrix, h_hat2_unconstrained))\n",
    "h_hat2_constrained = h_hat2_unconstrained - 0.5*matmul(matmul(inv(matmul(Ah,A)), transpose(constraints_matrix)), lambda_2)\n",
    "d2_constrained = normalized_difference(h_constrained,h_hat2_constrained)\n",
    "\n",
    "print(f\"Normalized difference for variance {np.round(SIG1**2, decimals=3)} : {d1_constrained}\")\n",
    "print(f\"Normalized difference for variance {np.round(SIG2**2, decimals=1)} : {d2_constrained}\")"
   ]
  },
  {
   "cell_type": "code",
   "execution_count": 108,
   "metadata": {},
   "outputs": [],
   "source": [
    "Somp = []\n",
    "r = y2\n",
    "ko = 6\n",
    "Ah = np.asmatrix(A).getH()\n",
    "for k in range(ko):\n",
    "    t_ = np.matmul(Ah,r)\n",
    "    t = np.argmax(np.abs(np.matmul(Ah,r)))\n",
    "    Somp.append(int(t))\n",
    "    p = np.matmul(A[:,Somp],pinv(A[:,Somp]))\n",
    "    r = np.matmul((np.eye(512) - p),y2)    "
   ]
  }
 ],
 "metadata": {
  "kernelspec": {
   "display_name": "Python 3",
   "language": "python",
   "name": "python3"
  },
  "language_info": {
   "codemirror_mode": {
    "name": "ipython",
    "version": 3
   },
   "file_extension": ".py",
   "mimetype": "text/x-python",
   "name": "python",
   "nbconvert_exporter": "python",
   "pygments_lexer": "ipython3",
   "version": "3.6.9"
  }
 },
 "nbformat": 4,
 "nbformat_minor": 2
}
