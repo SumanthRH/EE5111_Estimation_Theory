{
 "cells": [
  {
   "cell_type": "code",
   "execution_count": 6,
   "metadata": {},
   "outputs": [],
   "source": [
    "import numpy as np\n",
    "import os \n",
    "import argparse\n",
    "import cmath\n",
    "import random\n",
    "from numpy.linalg import norm\n",
    "from numpy.linalg import inv\n",
    "from numpy import matmul, transpose\n",
    "import matplotlib.pyplot as plt\n",
    "j = complex(0,1)\n",
    "\n",
    "Y_SIZE = 512\n",
    "H_SIZE = 32\n",
    "SIG1 = np.sqrt(0.001)\n",
    "SIG2 = np.sqrt(0.1)\n",
    "LAMBDA = 0.2\n",
    "M = 100 # Number of trials"
   ]
  },
  {
   "cell_type": "code",
   "execution_count": 4,
   "metadata": {},
   "outputs": [
    {
     "name": "stdout",
     "output_type": "stream",
     "text": [
      "[[-0.00135161+0.00045644j]\n",
      " [-0.0009059 +0.00019696j]\n",
      " [-0.00204251+0.00063021j]\n",
      " [ 0.00043683+0.00066373j]\n",
      " [ 0.00181669+0.00177302j]]\n"
     ]
    }
   ],
   "source": []
  },
  {
   "cell_type": "code",
   "execution_count": 122,
   "metadata": {},
   "outputs": [
    {
     "name": "stdout",
     "output_type": "stream",
     "text": [
      "[[ 1.63207536e-01-2.67601531e-01j]\n",
      " [ 2.18030283e-01-6.26877263e-02j]\n",
      " [-5.34581044e-02+1.12375321e-01j]\n",
      " [-1.64353506e-01+4.11273208e-02j]\n",
      " [ 5.51003795e-02-4.51421493e-02j]\n",
      " [-6.00964458e-04+9.15755183e-02j]\n",
      " [ 1.66494585e-02+2.45322307e-02j]\n",
      " [ 7.07359956e-02-2.67666751e-02j]\n",
      " [ 3.65607788e-02-2.16035345e-02j]\n",
      " [ 7.79571734e-02-3.40752554e-02j]\n",
      " [ 3.33235655e-03-4.32261286e-03j]\n",
      " [-1.73436413e-03-2.30114907e-02j]\n",
      " [-1.07903202e-02+2.32153313e-02j]\n",
      " [ 6.59605922e-03+1.59378031e-02j]\n",
      " [ 8.11622585e-03+1.63663816e-02j]\n",
      " [-1.09318031e-02+4.16791047e-03j]\n",
      " [ 1.14088106e-02-9.87837207e-05j]\n",
      " [ 8.60778654e-03-1.44107333e-03j]\n",
      " [-5.02683724e-04-5.22787481e-03j]\n",
      " [-5.73408326e-03+3.65337390e-03j]\n",
      " [-3.99811609e-04-6.78580061e-04j]\n",
      " [ 4.24895899e-04-1.74931090e-03j]\n",
      " [-2.09638637e-03-3.29615184e-03j]\n",
      " [-3.42477198e-03-8.99929609e-04j]\n",
      " [-4.21581864e-04+5.68900756e-06j]\n",
      " [ 7.77101481e-04-1.50053674e-03j]\n",
      " [-1.84849358e-04+2.17703338e-05j]\n",
      " [ 8.52642310e-04-4.86500701e-04j]\n",
      " [-6.72739616e-04-5.87663683e-04j]\n",
      " [-9.27445490e-05+1.18261886e-03j]\n",
      " [ 3.34413616e-04+8.48262468e-04j]\n",
      " [ 7.63095326e-06+1.43946275e-06j]]\n"
     ]
    }
   ],
   "source": [
    "# Constructing X and F\n",
    "\n",
    "F = np.empty((Y_SIZE,H_SIZE),dtype=np.csingle) \n",
    "for i in range(F.shape[0]):\n",
    "    for k in range(F.shape[1]):\n",
    "        F[i][k] = cmath.exp(1j*(2*cmath.pi*i*k/512))        \n",
    "\n",
    "# Noise vectors of different variances\n",
    "# n1 = np.random.normal(loc=0, scale=SIG1,size=(Y_SIZE,2)).view(np.complex128)\n",
    "# n2 = np.random.normal(loc=0, scale=SIG2,size=(Y_SIZE,2)).view(np.complex128)\n",
    "\n",
    "# Constructing h\n",
    "def get_x_h():\n",
    "    x = np.random.choice([1+1j,1-1j,-1+1j,-1-1j],size=Y_SIZE)\n",
    "    X = np.diag(x,k=0)\n",
    "    p = np.asarray([np.exp(-1*(LAMBDA)*i) for i in range(H_SIZE)])\n",
    "    p = p/np.sum(p**2)\n",
    "    a = np.random.normal(scale=0.5,size=H_SIZE)\n",
    "    b = np.random.normal(scale=0.5,size=H_SIZE)\n",
    "    # Reshape added else y was taking size 512*512\n",
    "    h = np.multiply(p,a+b*j).reshape(-1,1)\n",
    "    return X,h\n",
    "\n",
    "# Calculate A, where A = XF and y = XFh + n\n",
    "X,h = get_x_h()\n",
    "print(h)\n",
    "A = matmul(X,F)"
   ]
  },
  {
   "cell_type": "code",
   "execution_count": 116,
   "metadata": {},
   "outputs": [],
   "source": [
    "def pinv(A, alpha=0):\n",
    "    Ah = np.asmatrix(A).getH()\n",
    "    return  matmul(inv(matmul(Ah,A)+alpha*np.eye(np.shape(Ah)[0])),Ah)\n",
    "\n",
    "def squared_error_theo(design_matrix, vector, alpha=0):\n",
    "    projection_matrix = np.matmul(design_matrix, pinv(design_matrix, alpha))\n",
    "    I = np.eye(np.shape(projection_matrix)[0])\n",
    "    projection_matrix_perp = I - projection_matrix\n",
    "    return norm(np.matmul(projection_matrix_perp, vector))**2"
   ]
  },
  {
   "cell_type": "code",
   "execution_count": 125,
   "metadata": {},
   "outputs": [],
   "source": [
    "def normalized_difference(y_original, y_hat):\n",
    "    return norm(y_original-y_hat)/norm(y_original)\n",
    "\n",
    "def squared_error(vector1, vector2):\n",
    "    return norm(vector1-vector2)**2\n"
   ]
  },
  {
   "cell_type": "code",
   "execution_count": 147,
   "metadata": {},
   "outputs": [
    {
     "name": "stdout",
     "output_type": "stream",
     "text": [
      " MSE Theoretical : 0.9598625124141096\n",
      " MSE Calculated : 0.9598625124141096\n",
      "6.321311316367065e-05\n"
     ]
    }
   ],
   "source": [
    "# Q1\n",
    "def estimate_vanilla_h(A,h,sig=SIG1, rse=False):\n",
    "    n = np.random.normal(loc=0, scale=sig,size=(Y_SIZE,2)).view(np.complex128)\n",
    "    y = matmul(A,h) + n\n",
    "    h_hat = matmul(pinv(A), y)\n",
    "    d = normalized_difference(h,h_hat)\n",
    "    y_hat = np.matmul(A, h_hat)\n",
    "#     print(norm(y)**2)\n",
    "#     print(f\"[Vanilla] Normalized difference for variance {np.round(sig**2, decimals=3)} : {d}\")\n",
    "    error_theoretical = squared_error_theotical(A, y)\n",
    "    error_calculated = squared_error(y, y_hat)\n",
    "    if rse:\n",
    "        return h_hat,d, error_theoretical, error_calculated\n",
    "    else:\n",
    "        return h_hat,d\n",
    "\n",
    "# def estimate_vanilla_h(A,h,sig=SIG1):\n",
    "#     n = np.random.normal(loc=0, scale=sig,size=(Y_SIZE,2)).view(np.complex128)\n",
    "#     y = matmul(A,h) + n\n",
    "#     h_hat = matmul(pinv(A), y)\n",
    "#     d = normalized_difference(h,h_hat)\n",
    "# #     print(f\"[Vanilla] Normalized difference for variance {np.round(sig**2, decimals=3)} : {d}\")\n",
    "#     return h_hat,d\n",
    "    \n",
    "# estimate_vanilla_h(sig=SIG1)\n",
    "# estimate_vanilla_h(sig=SIG2)\n",
    "\n",
    "# Averaging over M trials\n",
    "def question1(M=M,sig=SIG1):\n",
    "    all_h = []\n",
    "    all_h_hat = []\n",
    "    error_theo = []\n",
    "    error_calc = []\n",
    "    for i in range(M):\n",
    "        X,h = get_x_h()\n",
    "        A = matmul(X,F)\n",
    "        h_hat, d, error_theo_, error_calc_ = estimate_vanilla_h(A,h,sig,True)\n",
    "        error_theo.append(error_theo_)\n",
    "        error_calc.append(error_calc_)\n",
    "        all_h.append(h)\n",
    "        all_h_hat.append(h_hat)\n",
    "    print(\" MSE Theoretical :\", np.mean(error_theo))\n",
    "    print(\" MSE Calculated :\", np.mean(error_calc))\n",
    "    return all_h, all_h_hat\n",
    "\n",
    "all_hq1, all_h_hatq1 = question1(M,sig=SIG1)\n",
    "mean_h = sum(all_hq1)/M\n",
    "mean_h_hat = sum(all_h_hatq1)/M\n",
    "error = [ np.sum(norm(all_hq1[i]-all_h_hatq1[i])**2) for i in range(M)  ]\n",
    "print(np.mean(error))"
   ]
  },
  {
   "cell_type": "code",
   "execution_count": 141,
   "metadata": {},
   "outputs": [
    {
     "name": "stdout",
     "output_type": "stream",
     "text": [
      "0.017085938556473324\n"
     ]
    },
    {
     "data": {
      "image/png": "[encoded data removed]",
      "text/plain": [
       "<Figure size 432x288 with 1 Axes>"
      ]
     },
     "metadata": {},
     "output_type": "display_data"
    },
    {
     "data": {
      "text/plain": [
       "<Figure size 2880x1440 with 0 Axes>"
      ]
     },
     "metadata": {},
     "output_type": "display_data"
    }
   ],
   "source": [
    "print(normalized_difference(all_hq1[0],all_h_hatq1[0]))\n",
    "def plot_h(h,h_hat):\n",
    "    m = len(h)\n",
    "#     print(normalized_difference(mean_h,mean_h_hat))\n",
    "    norm_h = [norm(a) for a in h]\n",
    "    norm_h_hat = [norm(a) for a in h_hat]\n",
    "    plt.plot(np.arange(0,m),norm_h,'-b',label='h')\n",
    "    plt.plot(np.arange(0,m),norm_h_hat,'-r',label='h_hat')\n",
    "    plt.legend(loc='upper right')\n",
    "    plt.figure(figsize=(40,20))\n",
    "    plt.show()  \n",
    "\n",
    "plot_h(mean_h,mean_h_hat)"
   ]
  },
  {
   "cell_type": "code",
   "execution_count": 16,
   "metadata": {},
   "outputs": [
    {
     "name": "stdout",
     "output_type": "stream",
     "text": [
      "0.11824186729258067\n"
     ]
    },
    {
     "data": {
      "image/png": "[encoded data removed]",
      "text/plain": [
       "<Figure size 432x288 with 1 Axes>"
      ]
     },
     "metadata": {},
     "output_type": "display_data"
    },
    {
     "data": {
      "text/plain": [
       "<Figure size 2880x1440 with 0 Axes>"
      ]
     },
     "metadata": {},
     "output_type": "display_data"
    }
   ],
   "source": [
    "all_h2,all_h_hat2 = question1(sig=SIG2)\n",
    "print(normalized_difference(sum(all_h2),sum(all_h_hat2)))\n",
    "plot_h(all_h2,all_h_hat2)"
   ]
  },
  {
   "cell_type": "code",
   "execution_count": 146,
   "metadata": {},
   "outputs": [
    {
     "name": "stdout",
     "output_type": "stream",
     "text": [
      "normalized difference : 0.04834467567995497\n"
     ]
    },
    {
     "data": {
      "image/png": "[encoded data removed]",
      "text/plain": [
       "<Figure size 432x288 with 1 Axes>"
      ]
     },
     "metadata": {},
     "output_type": "display_data"
    },
    {
     "data": {
      "text/plain": [
       "<Figure size 2880x1440 with 0 Axes>"
      ]
     },
     "metadata": {},
     "output_type": "display_data"
    }
   ],
   "source": [
    "# Q2\n",
    "def estimate_sparse_h(A=A,h=h,sig=SIG1,sparsity_points=None,rse = False):\n",
    "    # rse is return squared errors\n",
    "    h_sparse = h\n",
    "#     if sparsity_points is None:\n",
    "#         sparsity_points = [i for i in random.sample(range(0,H_SIZE),H_SIZE-6)]\n",
    "#     for i in sparsity_points:\n",
    "#         h_sparse[i] = 0\n",
    "    n = np.random.normal(loc=0, scale=sig,size=(Y_SIZE,2)).view(np.complex128)\n",
    "    y_sparse = np.matmul(A,h_sparse) + n\n",
    "    constraints_matrix = np.zeros((len(sparsity_points), H_SIZE))\n",
    "    for i in range(len(sparsity_points)):\n",
    "        constraints_matrix[i,sparsity_points[i]]=1\n",
    "    h_hat_unconstrained = matmul(pinv(A), y_sparse)\n",
    "    Ah = np.asmatrix(A).getH()\n",
    "    \n",
    "    lambda_ = matmul(2*inv(matmul(matmul(constraints_matrix, inv(matmul(Ah, A))), \\\n",
    "                                  transpose(constraints_matrix))), matmul(constraints_matrix, h_hat_unconstrained))\n",
    "    h_hat_constrained = h_hat_unconstrained - 0.5*matmul(matmul(inv(matmul(Ah,A)), \\\n",
    "                                                                transpose(constraints_matrix)), lambda_)\n",
    "    d_constrained = normalized_difference(h_sparse,h_hat_constrained)\n",
    "\n",
    "    y_hat = A@h_sparse\n",
    "    error_theoretical = squared_error_theotical(A, y_sparse)\n",
    "    error_calculated = squared_error(y_sparse, y_hat)\n",
    "    \n",
    "    if rse:\n",
    "        return h_hat_constrained,d_constrained, error_theoretical, error_calculated\n",
    "    else:\n",
    "#     print(f\"[Sparse] Normalized difference for variance {np.round(sig**2, decimals=3)} : {d_constrained}\")\n",
    "        return h_hat_constrained,d_constrained\n",
    "\n",
    "# estimate_sparse_h(sig=SIG1)\n",
    "# estimate_sparse_h(sig=SIG2)\n",
    "\n",
    "def question2(M=M,sig=SIG1,sparsity_points=None):\n",
    "    all_h = []\n",
    "    all_h_hat = []\n",
    "    for i in range(M):\n",
    "        X,h = get_x_h()\n",
    "        if not sparsity_points:\n",
    "            sparsity_points = [i for i in random.sample(range(0,H_SIZE),H_SIZE-6)]\n",
    "        h[sparsity_points] = 0\n",
    "#         print(h)\n",
    "        A = matmul(X,F)\n",
    "        h_hat,d = estimate_sparse_h(A,h,sig,sparsity_points)\n",
    "        all_h.append(h)\n",
    "        all_h_hat.append(h_hat)\n",
    "    return all_h, all_h_hat\n",
    "\n",
    "all_hq2,all_h_hatq2 = question2(M,SIG1)\n",
    "print(\"normalized difference :\", normalized_difference(sum(all_hq2)/M,sum(all_h_hatq2)/M))\n",
    "plot_h(all_hq2[0],all_h_hatq2[0])"
   ]
  },
  {
   "cell_type": "code",
   "execution_count": 97,
   "metadata": {},
   "outputs": [
    {
     "name": "stdout",
     "output_type": "stream",
     "text": [
      "0.21016563830808574\n"
     ]
    },
    {
     "data": {
      "image/png": "[encoded data removed]",
      "text/plain": [
       "<Figure size 432x288 with 1 Axes>"
      ]
     },
     "metadata": {},
     "output_type": "display_data"
    },
    {
     "data": {
      "text/plain": [
       "<Figure size 2880x1440 with 0 Axes>"
      ]
     },
     "metadata": {},
     "output_type": "display_data"
    }
   ],
   "source": [
    "all_h2q2,all_h_hat2q2 = question2(M,SIG2)\n",
    "print(normalized_difference(sum(all_h2q2),sum(all_h_hat2q2)))\n",
    "plot_h(all_h2q2[10],all_h_hat2q2[10])\n",
    "# all_h_hat[0]\n",
    "# norm(all_h_hat[0])\n"
   ]
  },
  {
   "cell_type": "code",
   "execution_count": 8,
   "metadata": {},
   "outputs": [],
   "source": [
    "# Q3\n",
    "\n",
    "# # Set guard bands of width 180 on either side\n",
    "# X_ = X.copy()\n",
    "# X_[:180] = 0\n",
    "# X_[-180:] = 0\n",
    "# A_ = matmul(X_,F)\n",
    "\n",
    "# y1_ = matmul(A_,h) + n1\n",
    "# y2_ = matmul(A_,h) + n2\n",
    "\n",
    "# # define alpha values\n",
    "# alpha1 = 1\n",
    "# alpha2 = 1\n",
    "\n",
    "# ## LSE\n",
    "# h_hat1_ = matmul(pinv(A_, alpha1), y1_)\n",
    "# h_hat2_ = matmul(pinv(A_, alpha2), y2_)\n",
    "# d1_ = normalized_difference(h,h_hat1_)\n",
    "# d2_ = normalized_difference(h,h_hat2_)\n",
    "\n",
    "# # print(\"h vector was : \",h)\n",
    "# # print(\"h_hat1 vector is :\",h_hat1)\n",
    "# # print(\"h_hat2 vector is :\",h_hat2)\n",
    "# print(f\"Normalized difference for variance {np.round(SIG1**2, decimals=3)} and alpha {alpha1} : {d1}\")\n",
    "# print(f\"Normalized difference for variance {np.round(SIG2**2, decimals=1)} and alpha {alpha2} : {d2}\")"
   ]
  },
  {
   "cell_type": "code",
   "execution_count": 148,
   "metadata": {},
   "outputs": [
    {
     "name": "stdout",
     "output_type": "stream",
     "text": [
      "1.0000000001113707\n",
      "0.6155279441880664\n"
     ]
    }
   ],
   "source": [
    "# Q3a\n",
    "\n",
    "\n",
    "def estimate_guard_h_no_reg(A,h,h_,sig,sparsity_points,rse=False):\n",
    "    # h_ is sparse h generated \n",
    "    h_vanilla,d_vanilla = estimate_vanilla_h(A=A,h=h,sig=sig,rse=rse)\n",
    "    h_sparse,d_sparse = estimate_sparse_h(A=A,h=h_,sig=sig,sparsity_points=sparsity_points,rse=rse)\n",
    "    return h_vanilla, h_sparse\n",
    "\n",
    "# estimate_guard_h_no_reg(sig=SIG1)\n",
    "# estimate_guard_h_no_reg(sig=SIG2)\n",
    "sparse =  [i for i in random.sample(range(0,H_SIZE),H_SIZE-6)]\n",
    "h_ = h.copy()\n",
    "h_[sparse] = 0\n",
    "X_ = X.copy()\n",
    "X_[:180] = 0\n",
    "X_[-180:] = 0\n",
    "A = matmul(X_,F)\n",
    "\n",
    "h1,h2 = estimate_guard_h_no_reg(A,h,h_,SIG1,sparse)\n",
    "# print(h2)\n",
    "print(normalized_difference(h2,h_))\n",
    "# Q3b\n",
    "def estimate_guard_h_reg(A=A,h=h,alpha=1,sig=SIG1):\n",
    "    n = np.random.normal(loc=0, scale=sig,size=(Y_SIZE,2)).view(np.complex128)\n",
    "    y_ = matmul(A,h) + n\n",
    "    h_hat_ = matmul(pinv(A, alpha), y_)\n",
    "    d_ = normalized_difference(h,h_hat_)\n",
    "#     print(f\"[Regularized] Normalized difference for variance {np.round(sig**2, decimals=3)} and alpha {alpha} : {d_}\")\n",
    "    return h_hat_\n",
    "    \n",
    "# estimate_guard_h_reg(alpha=0.01,sig=SIG1)\n",
    "h_hat = estimate_guard_h_reg(A,h,alpha=0.01,sig=SIG1)\n",
    "print(normalized_difference(h,h_hat))\n",
    "def question3_no_reg(M,sig=SIG1,sparsity_points=None):\n",
    "    all_h = [[]]*4 # h, h_hat, h_sparse, h_hat_sparse\n",
    "    for i in range(M):\n",
    "        X,h = get_x_h()\n",
    "        X[:180] = 0\n",
    "        X[-180:] = 0\n",
    "        A = matmul(X,F)\n",
    "        h_ = h.copy()\n",
    "        if not sparsity_points:\n",
    "            sparsity_points = [i for i in random.sample(range(0,H_SIZE),H_SIZE-6)]\n",
    "        h_[sparsity_points] = 0\n",
    "        h_vanilla,h_sparse = estimate_guard_h_no_reg(A,h,h_,sig,sparsity_points)\n",
    "        all_h[1].append(h_vanilla)\n",
    "        all_h[3].append(h_sparse)\n",
    "        all_h[0].append(h)\n",
    "        all_h[2].append(h_)\n",
    "    return all_h\n",
    "all_h = question3_no_reg(M=1,sig=SIG1)\n",
    "all_hv, all_hv_hat, all_hs, all_hs_hat = all_h\n",
    "\n",
    "# print(all_hv[0])\n",
    "error = [np.sum(norm(all_hv[i]-all_hv_hat[i])**2) for i in range(len(all_hv))]"
   ]
  },
  {
   "cell_type": "code",
   "execution_count": 51,
   "metadata": {},
   "outputs": [
    {
     "data": {
      "text/plain": [
       "matrix([[ True],\n",
       "        [ True],\n",
       "        [ True],\n",
       "        [ True],\n",
       "        [ True],\n",
       "        [ True],\n",
       "        [ True],\n",
       "        [ True],\n",
       "        [ True],\n",
       "        [ True],\n",
       "        [ True],\n",
       "        [ True],\n",
       "        [ True],\n",
       "        [ True],\n",
       "        [ True],\n",
       "        [ True],\n",
       "        [ True],\n",
       "        [ True],\n",
       "        [ True],\n",
       "        [ True],\n",
       "        [ True],\n",
       "        [ True],\n",
       "        [ True],\n",
       "        [ True],\n",
       "        [ True],\n",
       "        [ True],\n",
       "        [ True],\n",
       "        [ True],\n",
       "        [ True],\n",
       "        [ True],\n",
       "        [ True],\n",
       "        [ True]])"
      ]
     },
     "execution_count": 51,
     "metadata": {},
     "output_type": "execute_result"
    }
   ],
   "source": [
    "# print(\"With guard bands, the normalised difference for vanilla h is :\", normalized_difference(sum(all_hv),sum(all_hv_hat)))\n",
    "\n",
    "all_hv[1] == all_hv_hat[1]"
   ]
  },
  {
   "cell_type": "code",
   "execution_count": 10,
   "metadata": {},
   "outputs": [
    {
     "name": "stdout",
     "output_type": "stream",
     "text": [
      "[Constrained] Normalized difference for variance 0.001 : 0.024363821477191707\n",
      "[Constrained] Normalized difference for variance 0.1 : 0.26025496008323984\n"
     ]
    },
    {
     "data": {
      "text/plain": [
       "(matrix([[-0.13237759+0.09788829j],\n",
       "         [-0.13237759+0.09788829j],\n",
       "         [ 0.05957897-0.01742272j],\n",
       "         [ 0.05957897-0.01742272j],\n",
       "         [-0.02340432-0.0924025j ],\n",
       "         [-0.02340432-0.0924025j ],\n",
       "         [ 0.01382686-0.00672852j],\n",
       "         [ 0.02350408+0.03152161j],\n",
       "         [ 0.02820527-0.07113179j],\n",
       "         [ 0.0273901 -0.00453935j],\n",
       "         [-0.03046512-0.02221011j],\n",
       "         [ 0.00874176-0.03184686j],\n",
       "         [ 0.02145266-0.01938978j],\n",
       "         [ 0.01554522+0.01383943j],\n",
       "         [-0.00139744-0.00475811j],\n",
       "         [-0.00168972-0.00288233j],\n",
       "         [-0.00033072-0.00155752j],\n",
       "         [ 0.00173731-0.02562347j],\n",
       "         [-0.00633767+0.00737881j],\n",
       "         [ 0.00685564+0.00344266j],\n",
       "         [ 0.01919747-0.01331766j],\n",
       "         [ 0.01111656+0.00894428j],\n",
       "         [-0.01391023+0.01065036j],\n",
       "         [-0.00963073-0.00312001j],\n",
       "         [ 0.01278015-0.00724042j],\n",
       "         [-0.00747396-0.02005627j],\n",
       "         [ 0.00786309-0.01006674j],\n",
       "         [ 0.00767993+0.00160067j],\n",
       "         [-0.00511912+0.00533534j],\n",
       "         [ 0.00191367-0.00154644j],\n",
       "         [ 0.00767857+0.00825249j],\n",
       "         [-0.00795162+0.01268119j]]), 0.26025496008323984)"
      ]
     },
     "execution_count": 10,
     "metadata": {},
     "output_type": "execute_result"
    }
   ],
   "source": [
    "# Q4\n",
    "\n",
    "# Building constraints matrix\n",
    "number_of_constraints = 3\n",
    "constraints_matrix = np.zeros((number_of_constraints, H_SIZE))\n",
    "constraints_matrix[0,0]=1\n",
    "constraints_matrix[0,1]=-1\n",
    "constraints_matrix[1,2]=1\n",
    "constraints_matrix[1,3]=-1\n",
    "constraints_matrix[2,4]=1\n",
    "constraints_matrix[2,5]=-1\n",
    "\n",
    "def estimate_constrained_h(A=A,h=h,sig=SIG1):\n",
    "    h_constrained = h.copy()\n",
    "    h_constrained[0] = h_constrained[1]\n",
    "    h_constrained[2] = h_constrained[3]\n",
    "    h_constrained[4] = h_constrained[5]\n",
    "    \n",
    "    n = np.random.normal(loc=0, scale=sig,size=(Y_SIZE,2)).view(np.complex128)\n",
    "    y_constrained = np.matmul(A,h_constrained) + n\n",
    "\n",
    "    h_hat_unconstrained = matmul(pinv(A), y_constrained)\n",
    "    Ah = np.asmatrix(A).getH()\n",
    "    lambda_ = matmul(2*inv(matmul(matmul(constraints_matrix, inv(matmul(Ah, A))),\\\n",
    "                                  transpose(constraints_matrix))), matmul(constraints_matrix, h_hat_unconstrained))\n",
    "    h_hat_constrained = h_hat_unconstrained - 0.5*matmul(matmul(inv(matmul(Ah,A)),\\\n",
    "                                                                transpose(constraints_matrix)), lambda_)\n",
    "    d_constrained = normalized_difference(h_constrained,h_hat_constrained)\n",
    "    print(f\"[Constrained] Normalized difference for variance {np.round(sig**2, decimals=3)} : {d_constrained}\")\n",
    "    return h_hat_constrained,d_constrained\n",
    "\n",
    "estimate_constrained_h(sig=SIG1)\n",
    "estimate_constrained_h(sig=SIG2)"
   ]
  },
  {
   "cell_type": "code",
   "execution_count": 11,
   "metadata": {},
   "outputs": [
    {
     "name": "stdout",
     "output_type": "stream",
     "text": [
      "[Sparse] Normalized difference for variance 0.1 : 0.07941798286762564\n"
     ]
    },
    {
     "data": {
      "text/plain": [
       "(matrix([[-1.38848468e-01+2.13595317e-02j],\n",
       "         [-1.47036660e-01+9.20469445e-02j],\n",
       "         [ 1.61416246e-01+7.71074849e-02j],\n",
       "         [ 0.00000000e+00+0.00000000e+00j],\n",
       "         [ 6.92217113e-02+5.30732458e-02j],\n",
       "         [-3.24060404e-02-9.65576823e-02j],\n",
       "         [ 0.00000000e+00+0.00000000e+00j],\n",
       "         [-2.16840434e-19+0.00000000e+00j],\n",
       "         [ 4.65188115e-02-5.23655870e-02j],\n",
       "         [ 0.00000000e+00+0.00000000e+00j],\n",
       "         [ 0.00000000e+00+0.00000000e+00j],\n",
       "         [ 0.00000000e+00+0.00000000e+00j],\n",
       "         [-6.93889390e-18-1.73472348e-18j],\n",
       "         [-3.46944695e-18+0.00000000e+00j],\n",
       "         [ 0.00000000e+00+1.73472348e-18j],\n",
       "         [ 0.00000000e+00+0.00000000e+00j],\n",
       "         [ 8.67361738e-19+0.00000000e+00j],\n",
       "         [ 0.00000000e+00-4.33680869e-19j],\n",
       "         [ 0.00000000e+00+0.00000000e+00j],\n",
       "         [ 1.73472348e-18-1.73472348e-18j],\n",
       "         [ 0.00000000e+00+8.67361738e-19j],\n",
       "         [ 0.00000000e+00+0.00000000e+00j],\n",
       "         [ 0.00000000e+00-5.42101086e-20j],\n",
       "         [ 0.00000000e+00-8.67361738e-19j],\n",
       "         [ 0.00000000e+00+0.00000000e+00j],\n",
       "         [ 0.00000000e+00+0.00000000e+00j],\n",
       "         [ 0.00000000e+00+4.33680869e-19j],\n",
       "         [ 0.00000000e+00+0.00000000e+00j],\n",
       "         [ 0.00000000e+00+0.00000000e+00j],\n",
       "         [ 0.00000000e+00-8.67361738e-19j],\n",
       "         [ 0.00000000e+00-1.73472348e-18j],\n",
       "         [ 0.00000000e+00+0.00000000e+00j]]), 0.07941798286762564)"
      ]
     },
     "execution_count": 11,
     "metadata": {},
     "output_type": "execute_result"
    }
   ],
   "source": [
    "# Q5\n",
    "Somp = []\n",
    "n = np.random.normal(loc=0, scale=SIG2,size=(Y_SIZE,2)).view(np.complex128)\n",
    "ran_sparse = \n",
    "y = matmul(A,h) + n\n",
    "r = y.copy()\n",
    "ko = 6\n",
    "Ah = np.asmatrix(A).getH()\n",
    "for k in range(ko):\n",
    "    t_ = np.matmul(Ah,r)\n",
    "    t = np.argmax(np.abs(np.matmul(Ah,r)))\n",
    "    Somp.append(int(t))\n",
    "    p = np.matmul(A[:,Somp],pinv(A[:,Somp]))\n",
    "    r = np.matmul((np.eye(Y_SIZE) - p),y) \n",
    "\n",
    "sparsity_points = [x for x in range(H_SIZE) if x not in Somp]\n",
    "estimate_sparse_h(sig=SIG2,sparsity_points=sparsity_points)"
   ]
  }
 ],
 "metadata": {
  "kernelspec": {
   "display_name": "Python 3",
   "language": "python",
   "name": "python3"
  },
  "language_info": {
   "codemirror_mode": {
    "name": "ipython",
    "version": 3
   },
   "file_extension": ".py",
   "mimetype": "text/x-python",
   "name": "python",
   "nbconvert_exporter": "python",
   "pygments_lexer": "ipython3",
   "version": "3.6.8"
  }
 },
 "nbformat": 4,
 "nbformat_minor": 2
}
