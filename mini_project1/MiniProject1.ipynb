{
 "cells": [
  {
   "cell_type": "code",
   "execution_count": 1,
   "metadata": {},
   "outputs": [],
   "source": [
    "import numpy as np\n",
    "import os \n",
    "import argparse\n",
    "import cmath\n",
    "import random\n",
    "from numpy.linalg import norm\n",
    "from numpy.linalg import inv\n",
    "from numpy import matmul, transpose\n",
    "j = complex(0,1)\n",
    "\n",
    "Y_SIZE = 512\n",
    "H_SIZE = 32\n",
    "SIG1 = np.sqrt(0.001)\n",
    "SIG2 = np.sqrt(0.1)\n",
    "LAMBDA = 0.2"
   ]
  },
  {
   "cell_type": "code",
   "execution_count": 2,
   "metadata": {},
   "outputs": [],
   "source": [
    "# Constructing X and F\n",
    "x = np.random.choice([1+1j,1-1j,-1+1j,-1-1j],size=Y_SIZE)\n",
    "X = np.diag(x,k=0)\n",
    "F = np.empty((Y_SIZE,H_SIZE),dtype=np.csingle)\n",
    "for i in range(F.shape[0]):\n",
    "    for k in range(F.shape[1]):\n",
    "        F[i][k] = cmath.exp(1j*(2*cmath.pi*i*k/512))        \n",
    "\n",
    "# Noise vectors of different variances\n",
    "# n1 = np.random.normal(loc=0, scale=SIG1,size=(Y_SIZE,2)).view(np.complex128)\n",
    "# n2 = np.random.normal(loc=0, scale=SIG2,size=(Y_SIZE,2)).view(np.complex128)\n",
    "\n",
    "# Constructing h\n",
    "p = np.asarray([np.exp(-1*(LAMBDA)*i) for i in range(H_SIZE)])\n",
    "p = p/np.sum(p**2)\n",
    "a = np.random.normal(scale=0.5,size=H_SIZE)\n",
    "b = np.random.normal(scale=0.5,size=H_SIZE)\n",
    "\n",
    "# Reshape added else y was taking size 512*512\n",
    "h = np.multiply(p,a+b*j).reshape(-1,1)\n",
    "\n",
    "# Calculate A, where A = XF and y = XFh + n\n",
    "A = matmul(X,F)"
   ]
  },
  {
   "cell_type": "code",
   "execution_count": 3,
   "metadata": {},
   "outputs": [],
   "source": [
    "def pinv(A, alpha=0):\n",
    "    Ah = np.asmatrix(A).getH()\n",
    "    return  matmul(inv(matmul(Ah,A)+alpha*np.eye(np.shape(Ah)[0])),Ah)"
   ]
  },
  {
   "cell_type": "code",
   "execution_count": 4,
   "metadata": {},
   "outputs": [],
   "source": [
    "def normalized_difference(y_original, y_hat):\n",
    "    return norm(y_original-y_hat)/norm(y_original)"
   ]
  },
  {
   "cell_type": "code",
   "execution_count": 5,
   "metadata": {},
   "outputs": [
    {
     "name": "stdout",
     "output_type": "stream",
     "text": [
      "[Vanilla] Normalized difference for variance 0.001 : 0.023579829122856784\n",
      "[Vanilla] Normalized difference for variance 0.1 : 0.24201371420473952\n"
     ]
    },
    {
     "data": {
      "text/plain": [
       "(matrix([[-1.61903064e-01+0.01131802j],\n",
       "         [-1.41203539e-01+0.09794021j],\n",
       "         [ 1.43414469e-01+0.04707481j],\n",
       "         [ 4.13382887e-02-0.00337092j],\n",
       "         [ 5.83107412e-02+0.05893105j],\n",
       "         [-4.47588750e-02-0.09894171j],\n",
       "         [ 1.47030616e-02-0.01033885j],\n",
       "         [ 3.80519701e-02+0.04309481j],\n",
       "         [ 2.74897115e-02-0.04858361j],\n",
       "         [ 7.29310690e-03-0.00564459j],\n",
       "         [-3.97814661e-02-0.04348208j],\n",
       "         [-6.09242571e-03-0.03229589j],\n",
       "         [ 1.12253821e-02+0.00576209j],\n",
       "         [ 1.60277055e-02-0.00375089j],\n",
       "         [ 5.29172535e-03-0.01145392j],\n",
       "         [ 1.37344671e-03-0.01103197j],\n",
       "         [ 1.91636542e-02+0.00518425j],\n",
       "         [ 6.74849650e-04-0.01390343j],\n",
       "         [ 6.47619869e-03+0.01066738j],\n",
       "         [ 3.72694787e-03-0.00555499j],\n",
       "         [ 2.68608913e-02-0.0001334j ],\n",
       "         [ 6.85078563e-03-0.00578003j],\n",
       "         [ 7.85040485e-03-0.00354006j],\n",
       "         [ 1.19812525e-02-0.00362182j],\n",
       "         [-8.17254201e-03-0.00125351j],\n",
       "         [ 8.26392202e-03+0.01490457j],\n",
       "         [ 1.49208189e-02+0.00926027j],\n",
       "         [-1.31904684e-02+0.00965783j],\n",
       "         [ 3.70856403e-05+0.0045891j ],\n",
       "         [ 5.17850691e-03+0.0049476j ],\n",
       "         [ 2.32207967e-03+0.00295255j],\n",
       "         [-4.88143785e-03+0.00385893j]]), 0.24201371420473952)"
      ]
     },
     "execution_count": 5,
     "metadata": {},
     "output_type": "execute_result"
    }
   ],
   "source": [
    "# Q1\n",
    "def estimate_vanilla_h(A=A,h=h,sig=SIG1):\n",
    "    n = np.random.normal(loc=0, scale=sig,size=(Y_SIZE,2)).view(np.complex128)\n",
    "    y = matmul(A,h) + n\n",
    "    h_hat = matmul(pinv(A), y)\n",
    "    d = normalized_difference(h,h_hat)\n",
    "    print(f\"[Vanilla] Normalized difference for variance {np.round(sig**2, decimals=3)} : {d}\")\n",
    "    return h_hat,d\n",
    "    \n",
    "estimate_vanilla_h(sig=SIG1)\n",
    "estimate_vanilla_h(sig=SIG2)"
   ]
  },
  {
   "cell_type": "code",
   "execution_count": 6,
   "metadata": {},
   "outputs": [],
   "source": [
    "### Q2\n",
    "### Sparse h\n",
    "# h_sparse = h.copy()\n",
    "\n",
    "# sparsity_points = [i for i in random.sample(range(0,H_SIZE),H_SIZE-6)]\n",
    "# for i in sparsity_points:\n",
    "#     h_sparse[i] = 0\n",
    "\n",
    "# y1_sparse = np.matmul(A,h_sparse) + n1\n",
    "# y2_sparse = np.matmul(A,h_sparse) + n2\n",
    "\n",
    "# constraints_matrix = np.zeros((H_SIZE-6, H_SIZE))\n",
    "# for i in range(len(sparsity_points)):\n",
    "#     constraints_matrix[i,sparsity_points[i]]=1\n",
    "\n",
    "# h_hat1_unconstrained = matmul(pinv(A), y1_sparse)\n",
    "# Ah = np.asmatrix(A).getH()\n",
    "# lambda_1 = matmul(2*inv(matmul(matmul(constraints_matrix, inv(matmul(Ah, A))),transpose(constraints_matrix))), matmul(constraints_matrix, h_hat1_unconstrained))\n",
    "# h_hat1_constrained = h_hat1_unconstrained - 0.5*matmul(matmul(inv(matmul(Ah,A)), transpose(constraints_matrix)), lambda_1)\n",
    "# d1_constrained = normalized_difference(h_sparse,h_hat1_constrained)\n",
    "\n",
    "# h_hat2_unconstrained = matmul(pinv(A), y2_sparse)\n",
    "# Ah = np.asmatrix(A).getH()\n",
    "# lambda_2 = matmul(2*inv(matmul(matmul(constraints_matrix, inv(matmul(Ah, A))),transpose(constraints_matrix))), matmul(constraints_matrix, h_hat2_unconstrained))\n",
    "# h_hat2_constrained = h_hat2_unconstrained - 0.5*matmul(matmul(inv(matmul(Ah,A)), transpose(constraints_matrix)), lambda_2)\n",
    "# d2_constrained = normalized_difference(h_sparse,h_hat2_constrained)\n",
    "\n",
    "# print(f\"Normalized difference for variance {np.round(SIG1**2, decimals=3)} : {d1_constrained}\")\n",
    "# print(f\"Normalized difference for variance {np.round(SIG2**2, decimals=1)} : {d2_constrained}\")"
   ]
  },
  {
   "cell_type": "code",
   "execution_count": 7,
   "metadata": {},
   "outputs": [
    {
     "name": "stdout",
     "output_type": "stream",
     "text": [
      "[Sparse] Normalized difference for variance 0.001 : 0.026693638248561545\n",
      "[Sparse] Normalized difference for variance 0.1 : 0.2426883205893068\n"
     ]
    },
    {
     "data": {
      "text/plain": [
       "(matrix([[-1.50251592e-01+8.48751270e-03j],\n",
       "         [ 0.00000000e+00+0.00000000e+00j],\n",
       "         [ 0.00000000e+00+0.00000000e+00j],\n",
       "         [ 0.00000000e+00+0.00000000e+00j],\n",
       "         [ 0.00000000e+00+1.73472348e-18j],\n",
       "         [ 0.00000000e+00+0.00000000e+00j],\n",
       "         [ 1.24926266e-02-1.40023102e-02j],\n",
       "         [ 0.00000000e+00+1.08420217e-19j],\n",
       "         [ 0.00000000e+00+8.67361738e-19j],\n",
       "         [ 0.00000000e+00-4.33680869e-19j],\n",
       "         [ 0.00000000e+00+4.33680869e-19j],\n",
       "         [ 0.00000000e+00+0.00000000e+00j],\n",
       "         [ 0.00000000e+00+5.42101086e-20j],\n",
       "         [ 0.00000000e+00+0.00000000e+00j],\n",
       "         [ 0.00000000e+00-1.73472348e-18j],\n",
       "         [ 0.00000000e+00+0.00000000e+00j],\n",
       "         [ 0.00000000e+00+0.00000000e+00j],\n",
       "         [ 3.46944695e-18-2.16840434e-19j],\n",
       "         [-4.33680869e-19+0.00000000e+00j],\n",
       "         [-8.42816204e-03-1.94405270e-02j],\n",
       "         [-1.73472348e-18+0.00000000e+00j],\n",
       "         [ 0.00000000e+00+0.00000000e+00j],\n",
       "         [-8.67361738e-19+0.00000000e+00j],\n",
       "         [ 0.00000000e+00+0.00000000e+00j],\n",
       "         [ 7.24398168e-03+4.19357115e-03j],\n",
       "         [ 0.00000000e+00-1.73472348e-18j],\n",
       "         [ 0.00000000e+00-8.67361738e-19j],\n",
       "         [-6.59149193e-03+5.61131898e-03j],\n",
       "         [ 2.16840434e-19+2.16840434e-19j],\n",
       "         [-1.73472348e-18+0.00000000e+00j],\n",
       "         [ 3.46944695e-18-4.33680869e-19j],\n",
       "         [ 1.93079327e-02+8.65099904e-03j]]), 0.2426883205893068)"
      ]
     },
     "execution_count": 7,
     "metadata": {},
     "output_type": "execute_result"
    }
   ],
   "source": [
    "# Q2\n",
    "def estimate_sparse_h(A=A,h=h,sig=SIG1,sparsity_points=None):\n",
    "    h_sparse = h.copy()\n",
    "    \n",
    "    if sparsity_points is None:\n",
    "        sparsity_points = [i for i in random.sample(range(0,H_SIZE),H_SIZE-6)]\n",
    "    for i in sparsity_points:\n",
    "        h_sparse[i] = 0\n",
    "    n = np.random.normal(loc=0, scale=sig,size=(Y_SIZE,2)).view(np.complex128)\n",
    "    y_sparse = np.matmul(A,h_sparse) + n\n",
    "    \n",
    "    constraints_matrix = np.zeros((H_SIZE-6, H_SIZE))\n",
    "    for i in range(len(sparsity_points)):\n",
    "        constraints_matrix[i,sparsity_points[i]]=1\n",
    "\n",
    "    h_hat_unconstrained = matmul(pinv(A), y_sparse)\n",
    "    Ah = np.asmatrix(A).getH()\n",
    "    \n",
    "    lambda_ = matmul(2*inv(matmul(matmul(constraints_matrix, inv(matmul(Ah, A))), \\\n",
    "                                  transpose(constraints_matrix))), matmul(constraints_matrix, h_hat_unconstrained))\n",
    "    h_hat_constrained = h_hat_unconstrained - 0.5*matmul(matmul(inv(matmul(Ah,A)), \\\n",
    "                                                                transpose(constraints_matrix)), lambda_)\n",
    "    d_constrained = normalized_difference(h_sparse,h_hat_constrained)\n",
    "\n",
    "    print(f\"[Sparse] Normalized difference for variance {np.round(sig**2, decimals=3)} : {d_constrained}\")\n",
    "    return h_hat_constrained,d_constrained\n",
    "\n",
    "estimate_sparse_h(sig=SIG1)\n",
    "estimate_sparse_h(sig=SIG2)"
   ]
  },
  {
   "cell_type": "code",
   "execution_count": 8,
   "metadata": {},
   "outputs": [],
   "source": [
    "# Q3\n",
    "\n",
    "# # Set guard bands of width 180 on either side\n",
    "# X_ = X.copy()\n",
    "# X_[:180] = 0\n",
    "# X_[-180:] = 0\n",
    "# A_ = matmul(X_,F)\n",
    "\n",
    "# y1_ = matmul(A_,h) + n1\n",
    "# y2_ = matmul(A_,h) + n2\n",
    "\n",
    "# # define alpha values\n",
    "# alpha1 = 1\n",
    "# alpha2 = 1\n",
    "\n",
    "# ## LSE\n",
    "# h_hat1_ = matmul(pinv(A_, alpha1), y1_)\n",
    "# h_hat2_ = matmul(pinv(A_, alpha2), y2_)\n",
    "# d1_ = normalized_difference(h,h_hat1_)\n",
    "# d2_ = normalized_difference(h,h_hat2_)\n",
    "\n",
    "# # print(\"h vector was : \",h)\n",
    "# # print(\"h_hat1 vector is :\",h_hat1)\n",
    "# # print(\"h_hat2 vector is :\",h_hat2)\n",
    "# print(f\"Normalized difference for variance {np.round(SIG1**2, decimals=3)} and alpha {alpha1} : {d1}\")\n",
    "# print(f\"Normalized difference for variance {np.round(SIG2**2, decimals=1)} and alpha {alpha2} : {d2}\")"
   ]
  },
  {
   "cell_type": "code",
   "execution_count": 9,
   "metadata": {},
   "outputs": [
    {
     "name": "stdout",
     "output_type": "stream",
     "text": [
      "[Vanilla] Normalized difference for variance 0.001 : 47260060.993050605\n",
      "[Sparse] Normalized difference for variance 0.001 : 60988715.398452155\n",
      "[Vanilla] Normalized difference for variance 0.1 : 123192884.3198801\n",
      "[Sparse] Normalized difference for variance 0.1 : 649448819.9509047\n",
      "[Regularized] Normalized difference for variance 0.001 and alpha 0.01 : 0.8165667501475998\n",
      "[Regularized] Normalized difference for variance 0.001 and alpha 1 : 0.6256980024571146\n"
     ]
    },
    {
     "data": {
      "text/plain": [
       "(matrix([[-0.11258671+0.00783088j],\n",
       "         [-0.09403284+0.03484535j],\n",
       "         [ 0.12907477-0.00757026j],\n",
       "         [-0.07519321-0.04134948j],\n",
       "         [ 0.01899608+0.06552031j],\n",
       "         [-0.00149228-0.04815789j],\n",
       "         [ 0.01302032+0.00585166j],\n",
       "         [-0.02298045+0.03066243j],\n",
       "         [ 0.01358778-0.04115866j],\n",
       "         [ 0.00802124+0.02749295j],\n",
       "         [-0.02244336-0.00664417j],\n",
       "         [ 0.01861976-0.00540079j],\n",
       "         [-0.00297431+0.00470389j],\n",
       "         [-0.00880297+0.00172989j],\n",
       "         [ 0.00720157-0.00513535j],\n",
       "         [ 0.00337164+0.00269602j],\n",
       "         [-0.01062004+0.00215647j],\n",
       "         [ 0.00703536-0.00496199j],\n",
       "         [ 0.00327319+0.00467597j],\n",
       "         [-0.00957866-0.0033533j ],\n",
       "         [ 0.00574335+0.00271054j],\n",
       "         [ 0.00366709-0.00211629j],\n",
       "         [-0.00832845+0.00017165j],\n",
       "         [ 0.00307808+0.00253503j],\n",
       "         [ 0.00638604-0.00340973j],\n",
       "         [-0.00930261+0.00110599j],\n",
       "         [ 0.00179699+0.00191515j],\n",
       "         [ 0.00755313-0.00160785j],\n",
       "         [-0.0060859 -0.0020295j ],\n",
       "         [-0.00688404+0.00307124j],\n",
       "         [ 0.01264937+0.00245961j],\n",
       "         [ 0.01380447-0.00253642j]]), 0.6256980024571146)"
      ]
     },
     "execution_count": 9,
     "metadata": {},
     "output_type": "execute_result"
    }
   ],
   "source": [
    "# Q3a\n",
    "X_ = X.copy()\n",
    "X_[:180] = 0\n",
    "X_[-180:] = 0\n",
    "A_ = matmul(X_,F)\n",
    "\n",
    "def estimate_guard_h_no_reg(A=A_,h=h,sig=SIG1):\n",
    "    h_vanilla,d_vanilla = estimate_vanilla_h(A=A,sig=sig)\n",
    "    h_sparse,d_sparse = estimate_sparse_h(A=A,sig=sig)\n",
    "    return h_vanilla, h_sparse, d_vanilla, d_sparse\n",
    "\n",
    "estimate_guard_h_no_reg(sig=SIG1)\n",
    "estimate_guard_h_no_reg(sig=SIG2)\n",
    "\n",
    "# Q3b\n",
    "def estimate_guard_h_reg(A=A_,h=h,alpha=1,sig=SIG1):\n",
    "    n = np.random.normal(loc=0, scale=sig,size=(Y_SIZE,2)).view(np.complex128)\n",
    "    y_ = matmul(A,h) + n\n",
    "    \n",
    "    h_hat_ = matmul(pinv(A_, alpha), y_)\n",
    "    d_ = normalized_difference(h,h_hat_)\n",
    "    \n",
    "    print(f\"[Regularized] Normalized difference for variance {np.round(sig**2, decimals=3)} and alpha {alpha} : {d_}\")\n",
    "    return h_hat_,d_\n",
    "    \n",
    "estimate_guard_h_reg(alpha=0.01,sig=SIG1)\n",
    "estimate_guard_h_reg(alpha=1,sig=SIG1)"
   ]
  },
  {
   "cell_type": "code",
   "execution_count": 10,
   "metadata": {},
   "outputs": [
    {
     "name": "stdout",
     "output_type": "stream",
     "text": [
      "[Constrained] Normalized difference for variance 0.001 : 0.024363821477191707\n",
      "[Constrained] Normalized difference for variance 0.1 : 0.26025496008323984\n"
     ]
    },
    {
     "data": {
      "text/plain": [
       "(matrix([[-0.13237759+0.09788829j],\n",
       "         [-0.13237759+0.09788829j],\n",
       "         [ 0.05957897-0.01742272j],\n",
       "         [ 0.05957897-0.01742272j],\n",
       "         [-0.02340432-0.0924025j ],\n",
       "         [-0.02340432-0.0924025j ],\n",
       "         [ 0.01382686-0.00672852j],\n",
       "         [ 0.02350408+0.03152161j],\n",
       "         [ 0.02820527-0.07113179j],\n",
       "         [ 0.0273901 -0.00453935j],\n",
       "         [-0.03046512-0.02221011j],\n",
       "         [ 0.00874176-0.03184686j],\n",
       "         [ 0.02145266-0.01938978j],\n",
       "         [ 0.01554522+0.01383943j],\n",
       "         [-0.00139744-0.00475811j],\n",
       "         [-0.00168972-0.00288233j],\n",
       "         [-0.00033072-0.00155752j],\n",
       "         [ 0.00173731-0.02562347j],\n",
       "         [-0.00633767+0.00737881j],\n",
       "         [ 0.00685564+0.00344266j],\n",
       "         [ 0.01919747-0.01331766j],\n",
       "         [ 0.01111656+0.00894428j],\n",
       "         [-0.01391023+0.01065036j],\n",
       "         [-0.00963073-0.00312001j],\n",
       "         [ 0.01278015-0.00724042j],\n",
       "         [-0.00747396-0.02005627j],\n",
       "         [ 0.00786309-0.01006674j],\n",
       "         [ 0.00767993+0.00160067j],\n",
       "         [-0.00511912+0.00533534j],\n",
       "         [ 0.00191367-0.00154644j],\n",
       "         [ 0.00767857+0.00825249j],\n",
       "         [-0.00795162+0.01268119j]]), 0.26025496008323984)"
      ]
     },
     "execution_count": 10,
     "metadata": {},
     "output_type": "execute_result"
    }
   ],
   "source": [
    "# Q4\n",
    "\n",
    "# Building constraints matrix\n",
    "number_of_constraints = 3\n",
    "constraints_matrix = np.zeros((number_of_constraints, H_SIZE))\n",
    "constraints_matrix[0,0]=1\n",
    "constraints_matrix[0,1]=-1\n",
    "constraints_matrix[1,2]=1\n",
    "constraints_matrix[1,3]=-1\n",
    "constraints_matrix[2,4]=1\n",
    "constraints_matrix[2,5]=-1\n",
    "\n",
    "def estimate_constrained_h(A=A,h=h,sig=SIG1):\n",
    "    h_constrained = h.copy()\n",
    "    h_constrained[0] = h_constrained[1]\n",
    "    h_constrained[2] = h_constrained[3]\n",
    "    h_constrained[4] = h_constrained[5]\n",
    "    \n",
    "    n = np.random.normal(loc=0, scale=sig,size=(Y_SIZE,2)).view(np.complex128)\n",
    "    y_constrained = np.matmul(A,h_constrained) + n\n",
    "\n",
    "    h_hat_unconstrained = matmul(pinv(A), y_constrained)\n",
    "    Ah = np.asmatrix(A).getH()\n",
    "    lambda_ = matmul(2*inv(matmul(matmul(constraints_matrix, inv(matmul(Ah, A))),\\\n",
    "                                  transpose(constraints_matrix))), matmul(constraints_matrix, h_hat_unconstrained))\n",
    "    h_hat_constrained = h_hat_unconstrained - 0.5*matmul(matmul(inv(matmul(Ah,A)),\\\n",
    "                                                                transpose(constraints_matrix)), lambda_)\n",
    "    d_constrained = normalized_difference(h_constrained,h_hat_constrained)\n",
    "    print(f\"[Constrained] Normalized difference for variance {np.round(sig**2, decimals=3)} : {d_constrained}\")\n",
    "    return h_hat_constrained,d_constrained\n",
    "\n",
    "estimate_constrained_h(sig=SIG1)\n",
    "estimate_constrained_h(sig=SIG2)"
   ]
  },
  {
   "cell_type": "code",
   "execution_count": 11,
   "metadata": {},
   "outputs": [
    {
     "name": "stdout",
     "output_type": "stream",
     "text": [
      "[Sparse] Normalized difference for variance 0.1 : 0.07941798286762564\n"
     ]
    },
    {
     "data": {
      "text/plain": [
       "(matrix([[-1.38848468e-01+2.13595317e-02j],\n",
       "         [-1.47036660e-01+9.20469445e-02j],\n",
       "         [ 1.61416246e-01+7.71074849e-02j],\n",
       "         [ 0.00000000e+00+0.00000000e+00j],\n",
       "         [ 6.92217113e-02+5.30732458e-02j],\n",
       "         [-3.24060404e-02-9.65576823e-02j],\n",
       "         [ 0.00000000e+00+0.00000000e+00j],\n",
       "         [-2.16840434e-19+0.00000000e+00j],\n",
       "         [ 4.65188115e-02-5.23655870e-02j],\n",
       "         [ 0.00000000e+00+0.00000000e+00j],\n",
       "         [ 0.00000000e+00+0.00000000e+00j],\n",
       "         [ 0.00000000e+00+0.00000000e+00j],\n",
       "         [-6.93889390e-18-1.73472348e-18j],\n",
       "         [-3.46944695e-18+0.00000000e+00j],\n",
       "         [ 0.00000000e+00+1.73472348e-18j],\n",
       "         [ 0.00000000e+00+0.00000000e+00j],\n",
       "         [ 8.67361738e-19+0.00000000e+00j],\n",
       "         [ 0.00000000e+00-4.33680869e-19j],\n",
       "         [ 0.00000000e+00+0.00000000e+00j],\n",
       "         [ 1.73472348e-18-1.73472348e-18j],\n",
       "         [ 0.00000000e+00+8.67361738e-19j],\n",
       "         [ 0.00000000e+00+0.00000000e+00j],\n",
       "         [ 0.00000000e+00-5.42101086e-20j],\n",
       "         [ 0.00000000e+00-8.67361738e-19j],\n",
       "         [ 0.00000000e+00+0.00000000e+00j],\n",
       "         [ 0.00000000e+00+0.00000000e+00j],\n",
       "         [ 0.00000000e+00+4.33680869e-19j],\n",
       "         [ 0.00000000e+00+0.00000000e+00j],\n",
       "         [ 0.00000000e+00+0.00000000e+00j],\n",
       "         [ 0.00000000e+00-8.67361738e-19j],\n",
       "         [ 0.00000000e+00-1.73472348e-18j],\n",
       "         [ 0.00000000e+00+0.00000000e+00j]]), 0.07941798286762564)"
      ]
     },
     "execution_count": 11,
     "metadata": {},
     "output_type": "execute_result"
    }
   ],
   "source": [
    "# Q5\n",
    "Somp = []\n",
    "n = np.random.normal(loc=0, scale=SIG2,size=(Y_SIZE,2)).view(np.complex128)\n",
    "y = matmul(A,h) + n\n",
    "r = y.copy()\n",
    "ko = 6\n",
    "Ah = np.asmatrix(A).getH()\n",
    "for k in range(ko):\n",
    "    t_ = np.matmul(Ah,r)\n",
    "    t = np.argmax(np.abs(np.matmul(Ah,r)))\n",
    "    Somp.append(int(t))\n",
    "    p = np.matmul(A[:,Somp],pinv(A[:,Somp]))\n",
    "    r = np.matmul((np.eye(Y_SIZE) - p),y) \n",
    "\n",
    "sparsity_points = [x for x in range(H_SIZE) if x not in Somp]\n",
    "estimate_sparse_h(sig=SIG2,sparsity_points=sparsity_points)"
   ]
  }
 ],
 "metadata": {
  "kernelspec": {
   "display_name": "Python 3",
   "language": "python",
   "name": "python3"
  },
  "language_info": {
   "codemirror_mode": {
    "name": "ipython",
    "version": 3
   },
   "file_extension": ".py",
   "mimetype": "text/x-python",
   "name": "python",
   "nbconvert_exporter": "python",
   "pygments_lexer": "ipython3",
   "version": "3.6.7"
  }
 },
 "nbformat": 4,
 "nbformat_minor": 2
}
