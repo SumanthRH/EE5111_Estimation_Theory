{
 "cells": [
  {
   "cell_type": "code",
   "execution_count": 33,
   "metadata": {},
   "outputs": [],
   "source": [
    "import numpy as np\n",
    "import os \n",
    "import argparse\n",
    "import cmath\n",
    "import random\n",
    "j= complex(0,1)\n",
    "Y_SIZE=512\n",
    "H_SIZE=32\n",
    "SIG = 0.005\n",
    "LAMBDA = 0.2\n",
    "\n",
    "\n",
    "\n",
    "\n"
   ]
  },
  {
   "cell_type": "code",
   "execution_count": 6,
   "metadata": {},
   "outputs": [],
   "source": [
    "## Constructing X and F\n",
    "x = np.random.choice([1+1j,1-1j,-1+1j,-1-1j],size=Y_SIZE)\n",
    "X = np.diag(x,k=0)\n",
    "F = np.empty((Y_SIZE,H_SIZE),dtype=np.csingle)\n",
    "for i in range(F.shape[0]):\n",
    "    for k in range(F.shape[1]):\n",
    "        F[i][k] = cmath.exp(1j*(2*cmath.pi*i*k/512))\n",
    "n = np.random.normal(scale=SIG**2,size=Y_SIZE)\n",
    "\n"
   ]
  },
  {
   "cell_type": "code",
   "execution_count": 3,
   "metadata": {},
   "outputs": [
    {
     "name": "stdout",
     "output_type": "stream",
     "text": [
      "[ 0.16848229+0.38503435j  0.36381848-0.15139222j  0.13634997+0.34132001j\n",
      " -0.31774174+0.12341225j]\n",
      "h vector was :  [-3.06840646e-01+1.55006539e-01j -7.50834616e-02-6.97704577e-02j\n",
      "  1.52932866e-01+3.43126220e-02j -9.50670853e-03-4.47938312e-02j\n",
      " -4.62561439e-02+3.11164135e-02j -4.15826029e-03-1.65755012e-02j\n",
      "  1.14242969e-01-8.66660970e-02j -7.51631395e-02-6.12160927e-02j\n",
      " -6.59997266e-02-8.48337068e-03j  3.25575351e-03+3.26737228e-02j\n",
      "  3.21892058e-02-3.56485147e-02j -2.14499944e-02-1.16031630e-02j\n",
      " -1.50783207e-02-3.12849499e-02j  2.41011639e-02+1.71397381e-02j\n",
      "  1.34928624e-02-2.20065699e-02j  4.63896212e-03-4.56213384e-03j\n",
      " -7.94457767e-03+4.57534586e-03j -1.01238558e-04+5.95048543e-05j\n",
      "  1.66002467e-03+1.88375106e-03j  7.24680670e-03+5.87791385e-03j\n",
      "  7.36171755e-04-3.34905548e-03j  4.86302898e-03+1.31028192e-03j\n",
      " -3.34183566e-03+2.60552685e-03j -2.26303559e-03+1.74940080e-03j\n",
      " -2.18203151e-03+1.80853364e-04j -2.92912957e-04+1.44226304e-03j\n",
      " -6.56349441e-04-3.35805360e-04j -1.68990622e-03-1.35530289e-03j\n",
      " -1.00904531e-04-2.87975968e-04j  8.57437779e-04-2.27340889e-04j\n",
      "  3.01260728e-04-1.81660275e-06j  8.32357982e-04-4.19249192e-05j]\n",
      "h_ vector is : [-3.06840644e-01+1.55005697e-01j -7.50830364e-02-6.97700299e-02j\n",
      "  1.52933270e-01+3.43118734e-02j -9.50638728e-03-4.47940831e-02j\n",
      " -4.62568825e-02+3.11170763e-02j -4.15818213e-03-1.65751155e-02j\n",
      "  1.14242796e-01-8.66658528e-02j -7.51639229e-02-6.12154451e-02j\n",
      " -6.59996690e-02-8.48267349e-03j  3.25630354e-03+3.26732163e-02j\n",
      "  3.21886424e-02-3.56484228e-02j -2.14496765e-02-1.16032478e-02j\n",
      " -1.50780850e-02-3.12854489e-02j  2.41002319e-02+1.71394498e-02j\n",
      "  1.34922418e-02-2.20054581e-02j  4.64005076e-03-4.56323501e-03j\n",
      " -7.94431359e-03+4.57545609e-03j -1.00848761e-04+5.90133536e-05j\n",
      "  1.66059095e-03+1.88395218e-03j  7.24679324e-03+5.87827637e-03j\n",
      "  7.36697473e-04-3.34853273e-03j  4.86296111e-03+1.31003210e-03j\n",
      " -3.34159630e-03+2.60652785e-03j -2.26268306e-03+1.74980124e-03j\n",
      " -2.18325964e-03+1.81285208e-04j -2.93096348e-04+1.44212419e-03j\n",
      " -6.55747634e-04-3.35461694e-04j -1.68988594e-03-1.35542560e-03j\n",
      " -1.00722864e-04-2.87588809e-04j  8.57972578e-04-2.27570935e-04j\n",
      "  3.00936549e-04-2.54724982e-06j  8.33113682e-04-4.30138276e-05j]\n",
      "Normalized difference : [2.59667811e-07]\n"
     ]
    },
    {
     "name": "stderr",
     "output_type": "stream",
     "text": [
      "/opt/anaconda3/lib/python3.6/site-packages/ipykernel_launcher.py:16: FutureWarning: `rcond` parameter will change to the default of machine precision times ``max(M, N)`` where M and N are the input matrix dimensions.\n",
      "To use the future default and silence this warning we advise to pass `rcond=None`, to keep using the old, explicitly pass `rcond=-1`.\n",
      "  app.launch_new_instance()\n"
     ]
    }
   ],
   "source": [
    "## Constructing h\n",
    "p = np.asarray([np.exp(-1*(LAMBDA)*i) for i in range(H_SIZE)])\n",
    "p = p/np.sum(p**2)\n",
    "a = np.random.normal(scale=0.5,size=H_SIZE)\n",
    "b = np.random.normal(scale=0.5,size=H_SIZE)\n",
    "\n",
    "h = np.multiply(p,a+b*j)\n",
    "\n",
    "## Observations \n",
    "A = np.matmul(X,F)\n",
    "\n",
    "y = np.matmul(A,h) + n\n",
    "\n",
    "## LSE\n",
    "\n",
    "h_,d,r,s = np.linalg.lstsq(A,y)\n",
    "# d = np.sqrt(np.sum((h-h_)**2)/np.sum(h**2))\n",
    "\n",
    "print(np.matmul(A,h)[:4])\n",
    "print(\"h vector was : \",h)\n",
    "print(\"h_ vector is :\",h_)\n",
    "print(\"Normalized difference :\",d)\n",
    "\n",
    "\n"
   ]
  },
  {
   "cell_type": "code",
   "execution_count": 34,
   "metadata": {},
   "outputs": [
    {
     "name": "stdout",
     "output_type": "stream",
     "text": [
      "Sparse h vector was :  [ 0.        +0.00000000e+00j  0.        +0.00000000e+00j\n",
      "  0.        +0.00000000e+00j  0.        +0.00000000e+00j\n",
      " -0.04625614+3.11164135e-02j -0.00415826-1.65755012e-02j\n",
      "  0.11424297-8.66660970e-02j  0.        +0.00000000e+00j\n",
      "  0.        +0.00000000e+00j  0.        +0.00000000e+00j\n",
      "  0.        +0.00000000e+00j  0.        +0.00000000e+00j\n",
      "  0.        +0.00000000e+00j  0.02410116+1.71397381e-02j\n",
      "  0.        +0.00000000e+00j  0.        +0.00000000e+00j\n",
      "  0.        +0.00000000e+00j  0.        +0.00000000e+00j\n",
      "  0.        +0.00000000e+00j  0.        +0.00000000e+00j\n",
      "  0.        +0.00000000e+00j  0.        +0.00000000e+00j\n",
      "  0.        +0.00000000e+00j  0.        +0.00000000e+00j\n",
      " -0.00218203+1.80853364e-04j  0.        +0.00000000e+00j\n",
      "  0.        +0.00000000e+00j  0.        +0.00000000e+00j\n",
      "  0.        +0.00000000e+00j  0.        +0.00000000e+00j\n",
      "  0.00030126-1.81660275e-06j  0.        +0.00000000e+00j]\n",
      " h_ vector is : [-6.73474652e-07-1.08542525e-06j -7.50837135e-02-6.97704964e-02j\n",
      "  1.52933627e-01+3.43133519e-02j -5.93046352e-07+7.21599957e-08j\n",
      "  1.80664408e-07-9.74159184e-07j -4.15811596e-03-1.65747625e-02j\n",
      " -8.11810553e-07-6.91991606e-07j -3.46014100e-07+4.34724768e-07j\n",
      " -3.62113581e-07-5.10682610e-08j  3.25603307e-03+3.26739497e-02j\n",
      "  5.46704645e-07+9.93198933e-07j  3.90653671e-07+1.39305715e-07j\n",
      " -1.50777580e-02-3.12850991e-02j  6.80578995e-07-3.97139607e-07j\n",
      "  1.34925692e-02-2.20053377e-02j -2.16117228e-07+8.77002502e-07j\n",
      " -7.94431897e-03+4.57526240e-03j -1.01036584e-04+5.86652081e-05j\n",
      " -1.28110307e-07-1.53968427e-07j  7.24683139e-03+5.87779359e-03j\n",
      "  7.36006057e-04-3.34883866e-03j -6.66645314e-07-4.20003391e-07j\n",
      "  8.54197372e-07-7.25206375e-07j -6.43214017e-07-9.12821460e-07j\n",
      " -2.93307723e-07+8.01769398e-08j -2.93505545e-04+1.44172899e-03j\n",
      " -6.27936073e-07-1.43672725e-07j -1.04647631e-06-2.68865278e-07j\n",
      "  1.04984118e-07+1.46575815e-06j  8.57331743e-04-2.26469564e-04j\n",
      "  3.00871985e-04-2.76398543e-06j -1.35647708e-07+1.07010402e-06j]\n"
     ]
    }
   ],
   "source": [
    "### Sparse h \n",
    "h2 = h.copy()\n",
    "inds = []\n",
    "for i in random.sample(range(0,H_SIZE),H_SIZE-6):\n",
    "    inds.append(i)\n",
    "    h2[i] = 0\n",
    "\n",
    "y2 = np.matmul(A,h2) + n\n",
    "\n",
    "# h_,d,r,s = np.linalg.lstsq(A,y2)\n",
    "\n",
    "print(\"Sparse h vector was : \",h2)\n",
    "print(\" h_ vector is :\",h_)"
   ]
  },
  {
   "cell_type": "code",
   "execution_count": 17,
   "metadata": {},
   "outputs": [],
   "source": [
    "X_ = X.copy()\n",
    "inds = [(i,i) for i in range(180)]\n",
    "inds.extend([(511-i,511-i) for i in range(180)])\n",
    "# print(inds)\n",
    "X_[inds] = 0 \n"
   ]
  },
  {
   "cell_type": "code",
   "execution_count": 20,
   "metadata": {},
   "outputs": [
    {
     "data": {
      "text/plain": [
       "array([[-1.        -1.j        , -1.        -1.j        ,\n",
       "        -1.        -1.j        , ..., -1.        -1.j        ,\n",
       "        -1.        -1.j        , -1.        -1.j        ],\n",
       "       [-1.        +1.j        , -1.01219626+0.98765318j,\n",
       "        -1.02424005+0.97515759j, ..., -1.28575769+0.58892033j,\n",
       "        -1.29288787+0.57309777j, -1.29982328+0.55718887j],\n",
       "       [-1.        -1.j        , -0.97515759-1.02424005j,\n",
       "        -0.94972777-1.04786313j, ..., -0.10403597-1.41038167j,\n",
       "        -0.06939214-1.4125101j , -0.03470653-1.41378766j],\n",
       "       ...,\n",
       "       [-1.        +1.j        , -0.96251513+1.03612958j,\n",
       "        -0.92372587+1.070855j  , ...,  0.3938863 +1.35825387j,\n",
       "         0.44361296+1.34283563j,  0.49273846+1.32559755j],\n",
       "       [-1.        +1.j        , -0.97515759+1.02424005j,\n",
       "        -0.94972777+1.04786313j, ..., -0.10403597+1.41038167j,\n",
       "        -0.06939214+1.4125101j , -0.03470653+1.41378766j],\n",
       "       [ 1.        +1.j        ,  1.01219626+0.98765318j,\n",
       "         1.02424005+0.97515759j, ...,  1.28575769+0.58892033j,\n",
       "         1.29288787+0.57309777j,  1.29982328+0.55718887j]])"
      ]
     },
     "execution_count": 20,
     "metadata": {},
     "output_type": "execute_result"
    }
   ],
   "source": [
    "A"
   ]
  },
  {
   "cell_type": "code",
   "execution_count": 26,
   "metadata": {},
   "outputs": [
    {
     "data": {
      "text/plain": [
       "matrix([[-1.        +1.j        , -1.        -1.j        ,\n",
       "         -1.        +1.j        , ..., -1.        -1.j        ,\n",
       "         -1.        -1.j        ,  1.        -1.j        ],\n",
       "        [-1.        +1.j        , -1.01219626-0.98765318j,\n",
       "         -0.97515759+1.02424005j, ..., -0.96251513-1.03612958j,\n",
       "         -0.97515759-1.02424005j,  1.01219626-0.98765318j],\n",
       "        [-1.        +1.j        , -1.02424005-0.97515759j,\n",
       "         -0.94972777+1.04786313j, ..., -0.92372587-1.070855j  ,\n",
       "         -0.94972777-1.04786313j,  1.02424005-0.97515759j],\n",
       "        ...,\n",
       "        [-1.        +1.j        , -1.28575769-0.58892033j,\n",
       "         -0.10403597+1.41038167j, ...,  0.3938863 -1.35825387j,\n",
       "         -0.10403597-1.41038167j,  1.28575769-0.58892033j],\n",
       "        [-1.        +1.j        , -1.29288787-0.57309777j,\n",
       "         -0.06939214+1.4125101j , ...,  0.44361296-1.34283563j,\n",
       "         -0.06939214-1.4125101j ,  1.29288787-0.57309777j],\n",
       "        [-1.        +1.j        , -1.29982328-0.55718887j,\n",
       "         -0.03470653+1.41378766j, ...,  0.49273846-1.32559755j,\n",
       "         -0.03470653-1.41378766j,  1.29982328-0.55718887j]])"
      ]
     },
     "execution_count": 26,
     "metadata": {},
     "output_type": "execute_result"
    }
   ],
   "source": [
    "np.asmatrix(A).getH()"
   ]
  },
  {
   "cell_type": "code",
   "execution_count": 51,
   "metadata": {},
   "outputs": [
    {
     "name": "stdout",
     "output_type": "stream",
     "text": [
      "[[-6.89638044e-04-1.11147545e-03j -2.57927688e-04-3.96792132e-05j\n",
      "   7.78493393e-04+7.47483782e-04j -6.07279464e-04+7.38918354e-05j\n",
      "  -4.73661061e+01+3.18622097e+01j -4.25791068e+00-1.69725567e+01j\n",
      "   1.16983969e+02-8.87467915e+01j -3.54318439e-04+4.45158164e-04j\n",
      "  -3.70804301e-04-5.22938984e-05j  2.86226811e-04+2.32428331e-04j\n",
      "   5.59825555e-04+1.01703571e-03j  4.00029355e-04+1.42649049e-04j\n",
      "   5.76213886e-04-1.52719820e-04j  2.46802887e+01+1.75506851e+01j\n",
      "  -3.00260543e-04+1.26180702e-03j -2.21304037e-04+8.98050559e-04j\n",
      "   2.64901047e-04-8.54592910e-05j  2.06751970e-04-8.59828002e-04j\n",
      "  -1.31184950e-04-1.57663668e-04j  2.52760152e-05-1.23148207e-04j\n",
      "  -1.69897784e-04+2.22166323e-04j -6.82582755e-04-4.30053083e-04j\n",
      "   8.74916055e-04-7.42775777e-04j -6.58651153e-04-9.34729179e-04j\n",
      "  -2.23470058e+00+1.85275943e-01j -6.06843570e-04-5.46899509e-04j\n",
      "  -6.43006533e-04-1.47120864e-04j -1.07159174e-03-2.75318049e-04j\n",
      "   1.07503739e-04+1.50093634e-03j -1.08615649e-04+8.92260384e-04j\n",
      "   3.08093485e-01-2.83075653e-03j -1.38903251e-04+1.09578651e-03j]]\n"
     ]
    },
    {
     "ename": "ValueError",
     "evalue": "matmul: Input operand 1 has a mismatch in its core dimension 0, with gufunc signature (n?,k),(k,m?)->(n?,m?) (size 1 is different from 512)",
     "output_type": "error",
     "traceback": [
      "\u001b[0;31m---------------------------------------------------------------------------\u001b[0m",
      "\u001b[0;31mValueError\u001b[0m                                Traceback (most recent call last)",
      "\u001b[0;32m<ipython-input-51-e8f8c0987f2d>\u001b[0m in \u001b[0;36m<module>\u001b[0;34m\u001b[0m\n\u001b[1;32m      8\u001b[0m \u001b[0mAh\u001b[0m \u001b[0;34m=\u001b[0m \u001b[0mnp\u001b[0m\u001b[0;34m.\u001b[0m\u001b[0masmatrix\u001b[0m\u001b[0;34m(\u001b[0m\u001b[0mA\u001b[0m\u001b[0;34m)\u001b[0m\u001b[0;34m.\u001b[0m\u001b[0mgetH\u001b[0m\u001b[0;34m(\u001b[0m\u001b[0;34m)\u001b[0m\u001b[0;34m\u001b[0m\u001b[0;34m\u001b[0m\u001b[0m\n\u001b[1;32m      9\u001b[0m \u001b[0;32mfor\u001b[0m \u001b[0mk\u001b[0m \u001b[0;32min\u001b[0m \u001b[0mrange\u001b[0m\u001b[0;34m(\u001b[0m\u001b[0mko\u001b[0m\u001b[0;34m)\u001b[0m\u001b[0;34m:\u001b[0m\u001b[0;34m\u001b[0m\u001b[0;34m\u001b[0m\u001b[0m\n\u001b[0;32m---> 10\u001b[0;31m     \u001b[0mt_\u001b[0m \u001b[0;34m=\u001b[0m \u001b[0mnp\u001b[0m\u001b[0;34m.\u001b[0m\u001b[0mmatmul\u001b[0m\u001b[0;34m(\u001b[0m\u001b[0mAh\u001b[0m\u001b[0;34m,\u001b[0m\u001b[0mr\u001b[0m\u001b[0;34m)\u001b[0m\u001b[0;34m\u001b[0m\u001b[0;34m\u001b[0m\u001b[0m\n\u001b[0m\u001b[1;32m     11\u001b[0m     \u001b[0mprint\u001b[0m\u001b[0;34m(\u001b[0m\u001b[0mt_\u001b[0m\u001b[0;34m[\u001b[0m\u001b[0;36m0\u001b[0m\u001b[0;34m]\u001b[0m\u001b[0;34m[\u001b[0m\u001b[0;36m0\u001b[0m\u001b[0;34m]\u001b[0m\u001b[0;34m[\u001b[0m\u001b[0;36m0\u001b[0m\u001b[0;34m]\u001b[0m\u001b[0;34m[\u001b[0m\u001b[0;36m0\u001b[0m\u001b[0;34m]\u001b[0m\u001b[0;34m[\u001b[0m\u001b[0;36m0\u001b[0m\u001b[0;34m]\u001b[0m\u001b[0;34m[\u001b[0m\u001b[0;36m0\u001b[0m\u001b[0;34m]\u001b[0m\u001b[0;34m)\u001b[0m\u001b[0;34m\u001b[0m\u001b[0;34m\u001b[0m\u001b[0m\n\u001b[1;32m     12\u001b[0m     \u001b[0mt\u001b[0m \u001b[0;34m=\u001b[0m \u001b[0mnp\u001b[0m\u001b[0;34m.\u001b[0m\u001b[0margmax\u001b[0m\u001b[0;34m(\u001b[0m\u001b[0mnp\u001b[0m\u001b[0;34m.\u001b[0m\u001b[0mabs\u001b[0m\u001b[0;34m(\u001b[0m\u001b[0mnp\u001b[0m\u001b[0;34m.\u001b[0m\u001b[0mmatmul\u001b[0m\u001b[0;34m(\u001b[0m\u001b[0mAh\u001b[0m\u001b[0;34m,\u001b[0m\u001b[0mr\u001b[0m\u001b[0;34m)\u001b[0m\u001b[0;34m)\u001b[0m\u001b[0;34m)\u001b[0m\u001b[0;34m\u001b[0m\u001b[0;34m\u001b[0m\u001b[0m\n",
      "\u001b[0;31mValueError\u001b[0m: matmul: Input operand 1 has a mismatch in its core dimension 0, with gufunc signature (n?,k),(k,m?)->(n?,m?) (size 1 is different from 512)"
     ]
    }
   ],
   "source": [
    "def pinv(A):\n",
    "    Ah = np.asmatrix(A).getH()\n",
    "    return  np.matmul(np.linalg.inv(np.matmul(Ah,A)),Ah)\n",
    "\n",
    "Somp = []\n",
    "r = y2\n",
    "ko = 6\n",
    "Ah = np.asmatrix(A).getH()\n",
    "for k in range(ko):\n",
    "    t_ = np.matmul(Ah,r)\n",
    "    print(t_[0][0][0][0][0][0])\n",
    "    t = np.argmax(np.abs(np.matmul(Ah,r)))\n",
    "    Somp.append(int(t))\n",
    "    p = np.matmul(A[:,Somp],pinv(A[:,Somp]))\n",
    "    r = np.matmul((np.eye(512) - p),y2)\n",
    "    \n",
    "    \n",
    "                  \n",
    "    \n",
    "    "
   ]
  },
  {
   "cell_type": "code",
   "execution_count": 29,
   "metadata": {},
   "outputs": [
    {
     "data": {
      "text/plain": [
       "array([1.-5.j, 0.-4.j])"
      ]
     },
     "execution_count": 29,
     "metadata": {},
     "output_type": "execute_result"
    }
   ],
   "source": [
    "a = np.array([[1-1j,2-1j],[1-1j,1-1j]])\n",
    "np.matmul(a,np.asarray([1-1j,1-1j]))"
   ]
  },
  {
   "cell_type": "code",
   "execution_count": 30,
   "metadata": {},
   "outputs": [
    {
     "data": {
      "text/plain": [
       "array([[1., 0., 0., 0., 0.],\n",
       "       [0., 1., 0., 0., 0.],\n",
       "       [0., 0., 1., 0., 0.],\n",
       "       [0., 0., 0., 1., 0.],\n",
       "       [0., 0., 0., 0., 1.]])"
      ]
     },
     "execution_count": 30,
     "metadata": {},
     "output_type": "execute_result"
    }
   ],
   "source": [
    "np.eye(5)"
   ]
  },
  {
   "cell_type": "code",
   "execution_count": null,
   "metadata": {},
   "outputs": [],
   "source": []
  }
 ],
 "metadata": {
  "kernelspec": {
   "display_name": "Python 3",
   "language": "python",
   "name": "python3"
  },
  "language_info": {
   "codemirror_mode": {
    "name": "ipython",
    "version": 3
   },
   "file_extension": ".py",
   "mimetype": "text/x-python",
   "name": "python",
   "nbconvert_exporter": "python",
   "pygments_lexer": "ipython3",
   "version": "3.6.8"
  }
 },
 "nbformat": 4,
 "nbformat_minor": 2
}
